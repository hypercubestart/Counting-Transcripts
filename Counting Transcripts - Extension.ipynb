{
 "cells": [
  {
   "cell_type": "markdown",
   "metadata": {},
   "source": [
    "# Counting Transcripts - Extension\n",
    "\n",
    "> This is part four of the Counting Transcripts series. We will use the knowledge from the previous parts to evaluate differentially expressed transcripts. This notebook should be located in the same folder as the previous notebooks.\n",
    "\n",
    "## Setup\n",
    "\n",
    "> As usual, we will first need to setup our working directory."
   ]
  },
  {
   "cell_type": "code",
   "execution_count": 1,
   "metadata": {},
   "outputs": [],
   "source": [
    "###IMPORTANT: if you ever restart this notebook, you MUST rerun this code cell\n",
    "import os\n",
    "\n",
    "#feel free to change this location, because we will be working in this folder for the entire tutorial\n",
    "os.environ['WORKDIR'] = './data' "
   ]
  },
  {
   "cell_type": "markdown",
   "metadata": {},
   "source": [
    "## Extension 1: Evaluating differentially expressed transcripts \n",
    "\n",
    "From this one sample, we can see that some transcripts are expressed more or less than other transcripts, but this data does not give any insight about the effect of changes in transcript abundance and cellular behavior. This is why we need to compare the transcript expression of different samples. For example, imagine we would like to address the following question: which transcripts are responsible for making this a cancerous cell? We would look at the transcript expression between a normal cell and a cancerous cell, and analyze transcripts that are differentially expressed between the two samples. In this extension, we will begin looking at differentially expressed transcripts by visualizing the levels of transcription between different samples.\n",
    "\n",
    "We will continue to use samples from the adaptive prediction paper ([PMID 28854640](https://www.ncbi.nlm.nih.gov/pubmed/28854640)) to analyze the effects of caffeine on yeast at the transcriptome level. \n",
    "\n",
    "Before we download the data from the other samples, let us clean our working directories. For the following folders `$WORKDIR/BAM/`, `$WORKDIR/cleanFASTQ/`, `$WORKDIR/cufflinks/`, `$WORKDIR/FASTQ/`, and `$WORKDIR/kallisto/`, create new folders in each folder specifying the experiment (1a, 1c, 2a, 2c, 3a, 3c). In the pipeline tutorials, we were working with data from 1a, so move any existing files into your new 1a folder. However, in the kallisto folder, leave the transcripts.idx file under /data/kallisto because we can reuse the kallisto index and it should be shared between the samples.\n",
    "\n",
    "For example, your `$WORKDIR/kallisto/` folder should look something like this:\n",
    "<html>\n",
    "<div style=\"width: 50%;margin: 0 auto; background-color: rgb(242, 242, 242);\">\n",
    "    <code><i>kallisto</i>/\n",
    "    transcripts.idx\n",
    "    1a/\n",
    "        abundance.h5\n",
    "        abundance.tsv\n",
    "        run_info.json\n",
    "    1c/\n",
    "    2a/\n",
    "    2c/\n",
    "    3a/\n",
    "    3c/</code>\n",
    "</div>\n",
    "</html>\n",
    "\n",
    "We will now download the sequencing data from replicate 1 after caffeine, replicate 2 before and after caffeine, and replicate 3 before and after caffeine. Research scientists use replicates to check that outcomes are not due to chance. This is different from a trial, because a **trial** refers to a certain action performed many times repeatedly using the exact same object, while a **replicate** would perform a certain action on many of the same object. \n",
    "\n",
    "An example of a trial is flipping the same coin three times, while replicates would be flipping three different coins.\n",
    "\n",
    "\n",
    "| Replicate # | Before Caffeine (a) | After Caffeine (c) |\n",
    "| --- | --- | --- |\n",
    "| 1 | [SRX2785036](https://www.ncbi.nlm.nih.gov/sra/SRX2785036[accn]) | [SRX2785039](https://www.ncbi.nlm.nih.gov/sra/SRX2785039[accn]) |\n",
    "| 2 | [SRX2785037](https://www.ncbi.nlm.nih.gov/sra/SRX2785037[accn]) | [SRX2785040](https://www.ncbi.nlm.nih.gov/sra/SRX2785040[accn]) |\n",
    "| 3 | [SRX2785038](https://www.ncbi.nlm.nih.gov/sra/SRX2785038[accn]) | [SRX2785041](https://www.ncbi.nlm.nih.gov/sra/SRX2785041[accn]) |\n",
    "\n",
    "SRA toolkit provides a very easy to use executable called `prefetch`, which we can call to help us download the sequencing data files. All we have to do is provide the SRA accession, a unique identifier provided by the [NCBI](https://www.ncbi.nlm.nih.gov/) for each sample."
   ]
  },
  {
   "cell_type": "code",
   "execution_count": null,
   "metadata": {},
   "outputs": [],
   "source": [
    "!prefetch SRX2785037\n",
    "!prefetch SRX2785038\n",
    "!prefetch SRX2785039\n",
    "!prefetch SRX2785040\n",
    "!prefetch SRX2785041"
   ]
  },
  {
   "cell_type": "markdown",
   "metadata": {},
   "source": [
    "These files usually download automatically to a new location, the `~/ncbi/public/sra/` folder, so lets move all the files to our /data/seqData folder."
   ]
  },
  {
   "cell_type": "code",
   "execution_count": null,
   "metadata": {},
   "outputs": [],
   "source": [
    "!mv -v  ~/ncbi/public/sra/* $WORKDIR/seqData"
   ]
  },
  {
   "cell_type": "markdown",
   "metadata": {},
   "source": [
    "Using the same procedure as above, let's generate metrics to measure the level of gene expression in each experiment. Feel free to reference above if you need help, but **remember to change file names and locations**.\n",
    "\n",
    "1. convert to FASTQ\n",
    "2. clean the reads\n",
    "3. map the reads to the reference transcriptome sequence (we already generated the transcriptomeIndex, so no need to do it again!)\n",
    "4. quantify the aligned reads\n",
    "\n",
    "If you get stuck, here is the list of commands to run:"
   ]
  },
  {
   "cell_type": "code",
   "execution_count": null,
   "metadata": {},
   "outputs": [],
   "source": [
    "!fastq-dump --split-files -O $WORKDIR/FASTQ/2a $WORKDIR/seqDATA/SRR5511058.sra"
   ]
  },
  {
   "cell_type": "code",
   "execution_count": null,
   "metadata": {},
   "outputs": [],
   "source": [
    "!fastq-dump --split-files -O $WORKDIR/FASTQ/3a $WORKDIR/seqDATA/SRR5511059.sra"
   ]
  },
  {
   "cell_type": "code",
   "execution_count": null,
   "metadata": {},
   "outputs": [],
   "source": [
    "!fastq-dump --split-files -O $WORKDIR/FASTQ/1c $WORKDIR/seqDATA/SRR5511060.sra"
   ]
  },
  {
   "cell_type": "code",
   "execution_count": null,
   "metadata": {},
   "outputs": [],
   "source": [
    "!fastq-dump --split-files -O $WORKDIR/FASTQ/2c $WORKDIR/seqDATA/SRR5511061.sra"
   ]
  },
  {
   "cell_type": "code",
   "execution_count": null,
   "metadata": {},
   "outputs": [],
   "source": [
    "!fastq-dump --split-files -O $WORKDIR/FASTQ/3c $WORKDIR/seqDATA/SRR5511062.sra"
   ]
  },
  {
   "cell_type": "code",
   "execution_count": null,
   "metadata": {},
   "outputs": [],
   "source": [
    "!java -jar ~/software/Trimmomatic-0.38/trimmomatic-0.38.jar PE -phred33 \\\n",
    "    $WORKDIR/FASTQ/2a/SRR5511058_1.fastq $WORKDIR/FASTQ/2a/SRR5511058_2.fastq \\\n",
    "    $WORKDIR/cleanFASTQ/2a/SRR5511058.forward_paired.fastq $WORKDIR/cleanFASTQ/2a/SRR5511058.forward_unpaired.fastq \\\n",
    "    $WORKDIR/cleanFASTQ/2a/SRR5511058.reverse_paired.fastq $WORKDIR/cleanFASTQ/2a/SRR5511058.reverse_unpaired.fastq \\\n",
    "    LEADING:3 TRAILING:3 SLIDINGWINDOW:4:15 MINLEN:36"
   ]
  },
  {
   "cell_type": "code",
   "execution_count": null,
   "metadata": {},
   "outputs": [],
   "source": [
    "!java -jar ~/software/Trimmomatic-0.38/trimmomatic-0.38.jar PE -phred33 \\\n",
    "    $WORKDIR/FASTQ/3a/SRR5511059_1.fastq $WORKDIR/FASTQ/3a/SRR5511059_2.fastq \\\n",
    "    $WORKDIR/cleanFASTQ/3a/SRR5511059.forward_paired.fastq $WORKDIR/cleanFASTQ/3a/SRR5511059.forward_unpaired.fastq \\\n",
    "    $WORKDIR/cleanFASTQ/3a/SRR5511059.reverse_paired.fastq $WORKDIR/cleanFASTQ/3a/SRR5511059.reverse_unpaired.fastq \\\n",
    "    LEADING:3 TRAILING:3 SLIDINGWINDOW:4:15 MINLEN:36"
   ]
  },
  {
   "cell_type": "code",
   "execution_count": null,
   "metadata": {},
   "outputs": [],
   "source": [
    "!java -jar ~/software/Trimmomatic-0.38/trimmomatic-0.38.jar PE -phred33 \\\n",
    "    $WORKDIR/FASTQ/1c/SRR5511060_1.fastq $WORKDIR/FASTQ/1c/SRR5511060_2.fastq \\\n",
    "    $WORKDIR/cleanFASTQ/1c/SRR5511060.forward_paired.fastq $WORKDIR/cleanFASTQ/1c/SRR5511060.forward_unpaired.fastq \\\n",
    "    $WORKDIR/cleanFASTQ/1c/SRR5511060.reverse_paired.fastq $WORKDIR/cleanFASTQ/1c/SRR5511060.reverse_unpaired.fastq \\\n",
    "    LEADING:3 TRAILING:3 SLIDINGWINDOW:4:15 MINLEN:36"
   ]
  },
  {
   "cell_type": "code",
   "execution_count": null,
   "metadata": {},
   "outputs": [],
   "source": [
    "!java -jar ~/software/Trimmomatic-0.38/trimmomatic-0.38.jar PE -phred33 \\\n",
    "    $WORKDIR/FASTQ/2c/SRR5511061_1.fastq $WORKDIR/FASTQ/2c/SRR5511061_2.fastq \\\n",
    "    $WORKDIR/cleanFASTQ/2c/SRR5511061.forward_paired.fastq $WORKDIR/cleanFASTQ/2c/SRR5511061.forward_unpaired.fastq \\\n",
    "    $WORKDIR/cleanFASTQ/2c/SRR5511061.reverse_paired.fastq $WORKDIR/cleanFASTQ/2c/SRR5511061.reverse_unpaired.fastq \\\n",
    "    LEADING:3 TRAILING:3 SLIDINGWINDOW:4:15 MINLEN:36"
   ]
  },
  {
   "cell_type": "code",
   "execution_count": null,
   "metadata": {},
   "outputs": [],
   "source": [
    "!java -jar ~/software/Trimmomatic-0.38/trimmomatic-0.38.jar PE -phred33 \\\n",
    "    $WORKDIR/FASTQ/3c/SRR5511062_1.fastq $WORKDIR/FASTQ/3c/SRR5511062_2.fastq \\\n",
    "    $WORKDIR/cleanFASTQ/3c/SRR5511062.forward_paired.fastq $WORKDIR/cleanFASTQ/3c/SRR5511062.forward_unpaired.fastq \\\n",
    "    $WORKDIR/cleanFASTQ/3c/SRR5511062.reverse_paired.fastq $WORKDIR/cleanFASTQ/3c/SRR5511062.reverse_unpaired.fastq \\\n",
    "    LEADING:3 TRAILING:3 SLIDINGWINDOW:4:15 MINLEN:36"
   ]
  },
  {
   "cell_type": "code",
   "execution_count": null,
   "metadata": {},
   "outputs": [],
   "source": [
    "!kallisto quant -i $WORKDIR/kallisto/transcripts.idx -o $WORKDIR/kallisto/2a \\\n",
    "    $WORKDIR/cleanFASTQ/2a/SRR5511058.forward_paired.fastq $WORKDIR/cleanFASTQ/2a/SRR5511058.reverse_paired.fastq\n",
    "\n",
    "!kallisto quant -i $WORKDIR/kallisto/transcripts.idx -o $WORKDIR/kallisto/3a \\\n",
    "    $WORKDIR/cleanFASTQ/3a/SRR5511059.forward_paired.fastq $WORKDIR/cleanFASTQ/3a/SRR5511059.reverse_paired.fastq\n",
    "\n",
    "!kallisto quant -i $WORKDIR/kallisto/transcripts.idx -o $WORKDIR/kallisto/1c \\\n",
    "    $WORKDIR/cleanFASTQ/1c/SRR5511060.forward_paired.fastq $WORKDIR/cleanFASTQ/1c/SRR5511060.reverse_paired.fastq\n",
    "\n",
    "!kallisto quant -i $WORKDIR/kallisto/transcripts.idx -o $WORKDIR/kallisto/2c \\\n",
    "    $WORKDIR/cleanFASTQ/2c/SRR5511061.forward_paired.fastq $WORKDIR/cleanFASTQ/2c/SRR5511061.reverse_paired.fastq\n",
    "\n",
    "!kallisto quant -i $WORKDIR/kallisto/transcripts.idx -o $WORKDIR/kallisto/3c \\\n",
    "    $WORKDIR/cleanFASTQ/3c/SRR5511062.forward_paired.fastq $WORKDIR/cleanFASTQ/3c/SRR5511062.reverse_paired.fastq"
   ]
  },
  {
   "cell_type": "markdown",
   "metadata": {},
   "source": [
    "We now have the gene expression in 6 different samples in terms of TPM. A common first step is to validate our data through visualization. We can imagine each sample as a single data point on our graph, where we have n-dimensions for the number of transcripts in yeast. We can expect the \"before-caffeine samples\" to form one cluster and the \"after-caffeine experiments\" to form another cluster. However, how do we transform our high-dimensional transcript expression data into 2-dimensional data?\n",
    "\n",
    "We will explore two popular algorithms for dimensionality reduction: [t-SNE](https://en.wikipedia.org/wiki/T-distributed_stochastic_neighbor_embedding)(t-distributed stochastic neighbor embedding) and [PCA](https://en.wikipedia.org/wiki/Principal_component_analysis)(principal component analysis). \n",
    "\n",
    "We will use Python and use several different libraries. Downloading python libraries is very easy using the [pip](https://pip.pypa.io/en/stable/quickstart/) command."
   ]
  },
  {
   "cell_type": "code",
   "execution_count": 2,
   "metadata": {},
   "outputs": [],
   "source": [
    "#import dependencies\n",
    "import pandas as pd\n",
    "from sklearn.manifold import TSNE\n",
    "from sklearn.decomposition import PCA\n",
    "import time\n",
    "import math\n",
    "from plotnine import *\n",
    "import numpy as np\n",
    "import os"
   ]
  },
  {
   "cell_type": "code",
   "execution_count": 3,
   "metadata": {},
   "outputs": [
    {
     "data": {
      "text/html": [
       "<div>\n",
       "<style scoped>\n",
       "    .dataframe tbody tr th:only-of-type {\n",
       "        vertical-align: middle;\n",
       "    }\n",
       "\n",
       "    .dataframe tbody tr th {\n",
       "        vertical-align: top;\n",
       "    }\n",
       "\n",
       "    .dataframe thead th {\n",
       "        text-align: right;\n",
       "    }\n",
       "</style>\n",
       "<table border=\"1\" class=\"dataframe\">\n",
       "  <thead>\n",
       "    <tr style=\"text-align: right;\">\n",
       "      <th>target_id</th>\n",
       "      <th>VIMSS6580644</th>\n",
       "      <th>VIMSS6580645</th>\n",
       "      <th>VIMSS6580646</th>\n",
       "      <th>VIMSS6580647</th>\n",
       "      <th>VIMSS6580648</th>\n",
       "      <th>VIMSS6580649</th>\n",
       "      <th>VIMSS6580651</th>\n",
       "      <th>VIMSS6580653</th>\n",
       "      <th>VIMSS6580656</th>\n",
       "      <th>VIMSS6580657</th>\n",
       "      <th>...</th>\n",
       "      <th>VIMSS6586892</th>\n",
       "      <th>VIMSS6586893</th>\n",
       "      <th>VIMSS6586898</th>\n",
       "      <th>VIMSS6580614</th>\n",
       "      <th>VIMSS6580621</th>\n",
       "      <th>VIMSS6580622</th>\n",
       "      <th>VIMSS6580627</th>\n",
       "      <th>VIMSS6580628</th>\n",
       "      <th>VIMSS6580629</th>\n",
       "      <th>VIMSS6580612</th>\n",
       "    </tr>\n",
       "  </thead>\n",
       "  <tbody>\n",
       "    <tr>\n",
       "      <th>a1</th>\n",
       "      <td>2.001253</td>\n",
       "      <td>2.314166</td>\n",
       "      <td>1.591324</td>\n",
       "      <td>1.138631</td>\n",
       "      <td>1.495095</td>\n",
       "      <td>1.540466</td>\n",
       "      <td>1.596420</td>\n",
       "      <td>1.880289</td>\n",
       "      <td>1.723808</td>\n",
       "      <td>2.099069</td>\n",
       "      <td>...</td>\n",
       "      <td>1.387208</td>\n",
       "      <td>1.639635</td>\n",
       "      <td>1.821620</td>\n",
       "      <td>2.330458</td>\n",
       "      <td>1.653391</td>\n",
       "      <td>1.996965</td>\n",
       "      <td>1.362009</td>\n",
       "      <td>1.409023</td>\n",
       "      <td>1.801380</td>\n",
       "      <td>1.902422</td>\n",
       "    </tr>\n",
       "    <tr>\n",
       "      <th>a2</th>\n",
       "      <td>1.871936</td>\n",
       "      <td>2.351112</td>\n",
       "      <td>1.458062</td>\n",
       "      <td>1.090011</td>\n",
       "      <td>1.459961</td>\n",
       "      <td>1.393377</td>\n",
       "      <td>1.563595</td>\n",
       "      <td>1.805389</td>\n",
       "      <td>1.777433</td>\n",
       "      <td>2.074169</td>\n",
       "      <td>...</td>\n",
       "      <td>1.261981</td>\n",
       "      <td>1.582633</td>\n",
       "      <td>1.857878</td>\n",
       "      <td>2.350058</td>\n",
       "      <td>1.817173</td>\n",
       "      <td>1.938477</td>\n",
       "      <td>1.001145</td>\n",
       "      <td>1.465667</td>\n",
       "      <td>1.930689</td>\n",
       "      <td>1.939737</td>\n",
       "    </tr>\n",
       "    <tr>\n",
       "      <th>a3</th>\n",
       "      <td>1.955481</td>\n",
       "      <td>2.315626</td>\n",
       "      <td>1.437268</td>\n",
       "      <td>1.211801</td>\n",
       "      <td>1.492533</td>\n",
       "      <td>1.504729</td>\n",
       "      <td>1.595578</td>\n",
       "      <td>1.846698</td>\n",
       "      <td>1.660973</td>\n",
       "      <td>2.140822</td>\n",
       "      <td>...</td>\n",
       "      <td>1.275938</td>\n",
       "      <td>1.631825</td>\n",
       "      <td>1.801223</td>\n",
       "      <td>2.336622</td>\n",
       "      <td>1.524715</td>\n",
       "      <td>2.082688</td>\n",
       "      <td>1.119444</td>\n",
       "      <td>1.549779</td>\n",
       "      <td>1.980582</td>\n",
       "      <td>1.883486</td>\n",
       "    </tr>\n",
       "    <tr>\n",
       "      <th>c1</th>\n",
       "      <td>1.767758</td>\n",
       "      <td>1.876159</td>\n",
       "      <td>1.507000</td>\n",
       "      <td>1.136264</td>\n",
       "      <td>1.357550</td>\n",
       "      <td>1.263331</td>\n",
       "      <td>1.548698</td>\n",
       "      <td>1.813714</td>\n",
       "      <td>1.963342</td>\n",
       "      <td>2.113850</td>\n",
       "      <td>...</td>\n",
       "      <td>1.284956</td>\n",
       "      <td>1.490526</td>\n",
       "      <td>1.831983</td>\n",
       "      <td>2.325329</td>\n",
       "      <td>1.676088</td>\n",
       "      <td>1.928189</td>\n",
       "      <td>1.233260</td>\n",
       "      <td>1.569479</td>\n",
       "      <td>1.906061</td>\n",
       "      <td>1.853782</td>\n",
       "    </tr>\n",
       "    <tr>\n",
       "      <th>c2</th>\n",
       "      <td>1.921927</td>\n",
       "      <td>2.002891</td>\n",
       "      <td>1.441230</td>\n",
       "      <td>1.141130</td>\n",
       "      <td>1.332368</td>\n",
       "      <td>1.349048</td>\n",
       "      <td>1.579315</td>\n",
       "      <td>1.799521</td>\n",
       "      <td>1.921784</td>\n",
       "      <td>2.192283</td>\n",
       "      <td>...</td>\n",
       "      <td>1.253885</td>\n",
       "      <td>1.496107</td>\n",
       "      <td>1.850982</td>\n",
       "      <td>2.337631</td>\n",
       "      <td>1.754243</td>\n",
       "      <td>1.941409</td>\n",
       "      <td>1.286061</td>\n",
       "      <td>1.776610</td>\n",
       "      <td>1.915668</td>\n",
       "      <td>1.832984</td>\n",
       "    </tr>\n",
       "    <tr>\n",
       "      <th>c3</th>\n",
       "      <td>1.895282</td>\n",
       "      <td>1.935375</td>\n",
       "      <td>1.514434</td>\n",
       "      <td>1.191018</td>\n",
       "      <td>1.364104</td>\n",
       "      <td>1.251660</td>\n",
       "      <td>1.655679</td>\n",
       "      <td>1.814967</td>\n",
       "      <td>1.772066</td>\n",
       "      <td>2.164014</td>\n",
       "      <td>...</td>\n",
       "      <td>1.322463</td>\n",
       "      <td>1.495933</td>\n",
       "      <td>1.912814</td>\n",
       "      <td>2.340575</td>\n",
       "      <td>1.693179</td>\n",
       "      <td>1.943146</td>\n",
       "      <td>1.423976</td>\n",
       "      <td>1.710578</td>\n",
       "      <td>1.997486</td>\n",
       "      <td>1.607802</td>\n",
       "    </tr>\n",
       "  </tbody>\n",
       "</table>\n",
       "<p>6 rows × 4305 columns</p>\n",
       "</div>"
      ],
      "text/plain": [
       "target_id  VIMSS6580644  VIMSS6580645  VIMSS6580646  VIMSS6580647  \\\n",
       "a1             2.001253      2.314166      1.591324      1.138631   \n",
       "a2             1.871936      2.351112      1.458062      1.090011   \n",
       "a3             1.955481      2.315626      1.437268      1.211801   \n",
       "c1             1.767758      1.876159      1.507000      1.136264   \n",
       "c2             1.921927      2.002891      1.441230      1.141130   \n",
       "c3             1.895282      1.935375      1.514434      1.191018   \n",
       "\n",
       "target_id  VIMSS6580648  VIMSS6580649  VIMSS6580651  VIMSS6580653  \\\n",
       "a1             1.495095      1.540466      1.596420      1.880289   \n",
       "a2             1.459961      1.393377      1.563595      1.805389   \n",
       "a3             1.492533      1.504729      1.595578      1.846698   \n",
       "c1             1.357550      1.263331      1.548698      1.813714   \n",
       "c2             1.332368      1.349048      1.579315      1.799521   \n",
       "c3             1.364104      1.251660      1.655679      1.814967   \n",
       "\n",
       "target_id  VIMSS6580656  VIMSS6580657      ...       VIMSS6586892  \\\n",
       "a1             1.723808      2.099069      ...           1.387208   \n",
       "a2             1.777433      2.074169      ...           1.261981   \n",
       "a3             1.660973      2.140822      ...           1.275938   \n",
       "c1             1.963342      2.113850      ...           1.284956   \n",
       "c2             1.921784      2.192283      ...           1.253885   \n",
       "c3             1.772066      2.164014      ...           1.322463   \n",
       "\n",
       "target_id  VIMSS6586893  VIMSS6586898  VIMSS6580614  VIMSS6580621  \\\n",
       "a1             1.639635      1.821620      2.330458      1.653391   \n",
       "a2             1.582633      1.857878      2.350058      1.817173   \n",
       "a3             1.631825      1.801223      2.336622      1.524715   \n",
       "c1             1.490526      1.831983      2.325329      1.676088   \n",
       "c2             1.496107      1.850982      2.337631      1.754243   \n",
       "c3             1.495933      1.912814      2.340575      1.693179   \n",
       "\n",
       "target_id  VIMSS6580622  VIMSS6580627  VIMSS6580628  VIMSS6580629  \\\n",
       "a1             1.996965      1.362009      1.409023      1.801380   \n",
       "a2             1.938477      1.001145      1.465667      1.930689   \n",
       "a3             2.082688      1.119444      1.549779      1.980582   \n",
       "c1             1.928189      1.233260      1.569479      1.906061   \n",
       "c2             1.941409      1.286061      1.776610      1.915668   \n",
       "c3             1.943146      1.423976      1.710578      1.997486   \n",
       "\n",
       "target_id  VIMSS6580612  \n",
       "a1             1.902422  \n",
       "a2             1.939737  \n",
       "a3             1.883486  \n",
       "c1             1.853782  \n",
       "c2             1.832984  \n",
       "c3             1.607802  \n",
       "\n",
       "[6 rows x 4305 columns]"
      ]
     },
     "execution_count": 3,
     "metadata": {},
     "output_type": "execute_result"
    }
   ],
   "source": [
    "#import data\n",
    "a1 = pd.read_csv(os.environ['WORKDIR'] + '/kallisto/1a/abundance.tsv', sep='\\t', header=0, usecols=['target_id', 'tpm'])\n",
    "a2 = pd.read_csv(os.environ['WORKDIR'] + '/kallisto/2a/abundance.tsv', sep='\\t', header=0, usecols=['target_id', 'tpm'])\n",
    "a3 = pd.read_csv(os.environ['WORKDIR'] + '/kallisto/3a/abundance.tsv', sep='\\t', header=0, usecols=['target_id', 'tpm'])\n",
    "c1 = pd.read_csv(os.environ['WORKDIR'] + '/kallisto/1c/abundance.tsv', sep='\\t', header=0, usecols=['target_id', 'tpm'])\n",
    "c2 = pd.read_csv(os.environ['WORKDIR'] + '/kallisto/2c/abundance.tsv', sep='\\t', header=0, usecols=['target_id', 'tpm'])\n",
    "c3 = pd.read_csv(os.environ['WORKDIR'] + '/kallisto/3c/abundance.tsv', sep='\\t', header=0, usecols=['target_id', 'tpm'])\n",
    "\n",
    "#parse each sample's data\n",
    "a1.rename(columns = {'tpm':'a1'}, inplace = True)\n",
    "a2.rename(columns = {'tpm':'a2'}, inplace = True)\n",
    "a3.rename(columns = {'tpm':'a3'}, inplace = True)\n",
    "c1.rename(columns = {'tpm':'c1'}, inplace = True)\n",
    "c2.rename(columns = {'tpm':'c2'}, inplace = True)\n",
    "c3.rename(columns = {'tpm':'c3'}, inplace = True)\n",
    "a2 = a2.drop('target_id', axis=1)\n",
    "a3 = a3.drop('target_id', axis=1)\n",
    "c1 = c1.drop('target_id', axis=1)\n",
    "c2 = c2.drop('target_id', axis=1)\n",
    "c3 = c3.drop('target_id', axis=1)\n",
    "\n",
    "#combine samples into one table, where each row represents a sample and columns represent transcript\n",
    "dataframe = pd.concat([a1,a2,a3,c1,c2,c3], axis=1)\n",
    "dataframe = dataframe.T\n",
    "dataframe.columns = dataframe.iloc[0]\n",
    "dataframe = dataframe.drop('target_id')\n",
    "\n",
    "#clear memory, don't need references anymore\n",
    "del a1,a2,a3,c1,c2,c3\n",
    "\n",
    "#clean data by removing possible noise\n",
    "#filter out columns where any value is less than 10 (lowly expressed)\n",
    "min_threshold = 10\n",
    "for column in dataframe:\n",
    "    for value in dataframe[column]:\n",
    "        if value < min_threshold:\n",
    "            dataframe.drop(column, axis=1, inplace=True)\n",
    "            break\n",
    "\n",
    "#log base 10 all values in dataframe\n",
    "dataframe.applymap(lambda x: math.log(x, 10))"
   ]
  },
  {
   "cell_type": "code",
   "execution_count": 4,
   "metadata": {},
   "outputs": [
    {
     "name": "stdout",
     "output_type": "stream",
     "text": [
      "Explained variation per principal component [0.60461493 0.20639627]\n",
      "[t-SNE] Computing 5 nearest neighbors...\n",
      "[t-SNE] Indexed 6 samples in 0.000s...\n",
      "[t-SNE] Computed neighbors for 6 samples in 0.007s...\n",
      "[t-SNE] Computed conditional probabilities for sample 6 / 6\n",
      "[t-SNE] Mean sigma: 7615.190083\n",
      "[t-SNE] KL divergence after 250 iterations with early exaggeration: 55.712395\n",
      "[t-SNE] KL divergence after 1550 iterations: 0.008925\n",
      "t-SNE done! Time elapsed: 0.17518281936645508 seconds\n"
     ]
    }
   ],
   "source": [
    "# perform PCA calculations\n",
    "pca = PCA(n_components=2)\n",
    "pca_result = pca.fit_transform(dataframe.values)\n",
    "\n",
    "print ('Explained variation per principal component {}'.format(pca.explained_variance_ratio_))\n",
    "\n",
    "# perform t-SNE calculations\n",
    "time_start = time.time()\n",
    "tsne = TSNE(n_components=2, verbose=1, perplexity=2, n_iter=5000, learning_rate = 10)\n",
    "tsne_results = tsne.fit_transform(dataframe.values)\n",
    "\n",
    "print ('t-SNE done! Time elapsed: {} seconds'.format(time.time()-time_start))\n",
    "\n",
    "dataframe['PC1'] = pca_result[:,0]\n",
    "dataframe['PC2'] = pca_result[:,1] \n",
    "\n",
    "dataframe['tSNE1'] = tsne_results[:,0]\n",
    "dataframe['tSNE2'] = tsne_results[:,1]\n",
    "\n",
    "# add label column to table to identify each sample\n",
    "dataframe['label'] = pd.Series(['before', 'before', 'before', 'after', 'after', 'after'], index = dataframe.index)"
   ]
  },
  {
   "cell_type": "markdown",
   "metadata": {},
   "source": [
    "PCA is a deterministic algorithm that looks for most variant variables across samples. It does this by trying to find a best-fit linear line to the data, which is called the first principal component. The first principal component always accounts for the most variation in the data. Subsequent principal components are the best fitting lines perpendicular to previous principal components. The final points are simply the position of the respective point after being projected onto the principal components. This [video](https://www.youtube.com/watch?v=FgakZw6K1QQ) by StatQuest is very helpful in understanding the step-by-steps of PCA and gaining intuition about how it works. From our example, we can see that 81.1% of the variation in transcript expression in our samples are accounted for by the first and second principal components.\n",
    "\n",
    "t-SNE is a non-deterministic algorithm for dimensionality reduction. Each point is initiated in a position in the wanted lower-dimension. At each step, t-SNE will measure the distances of each point with each other point, and compare these with the similarity values from the original data. The ultimate goal is to make the similarity values between points on the lower dimension to match with the values from the original dimension. This [video](https://www.youtube.com/watch?v=NEaUSP4YerM) by StatQuest helps explain t-SNE. Keep in mind that t-SNE is non-deterministic, meaning that each run will behave differently and result in different results.\n",
    "\n",
    "Note: to re-run t-SNE calculations, you have to first reload the data in the previous code cell before running code cell with t-SNE calculations"
   ]
  },
  {
   "cell_type": "code",
   "execution_count": 5,
   "metadata": {},
   "outputs": [
    {
     "data": {
      "image/png": "[encoded data removed]",
      "text/plain": [
       "<Figure size 640x480 with 1 Axes>"
      ]
     },
     "metadata": {},
     "output_type": "display_data"
    },
    {
     "data": {
      "text/plain": [
       "<ggplot: (7548741994)>"
      ]
     },
     "execution_count": 5,
     "metadata": {},
     "output_type": "execute_result"
    }
   ],
   "source": [
    "#graph PCA \n",
    "chart = ggplot(dataframe, aes(x='PC1', y='PC2', color='label') ) \\\n",
    "        + geom_point(size=3,alpha=1) \\\n",
    "        + ggtitle(\"First and second principal component\")\n",
    "chart"
   ]
  },
  {
   "cell_type": "code",
   "execution_count": 6,
   "metadata": {},
   "outputs": [
    {
     "data": {
      "image/png": "[encoded data removed]",
      "text/plain": [
       "<Figure size 640x480 with 1 Axes>"
      ]
     },
     "metadata": {},
     "output_type": "display_data"
    },
    {
     "data": {
      "text/plain": [
       "<ggplot: (7549237203)>"
      ]
     },
     "execution_count": 6,
     "metadata": {},
     "output_type": "execute_result"
    }
   ],
   "source": [
    "# graph t-SNE\n",
    "chart = ggplot(dataframe, aes(x='tSNE1', y='tSNE2', color='label') ) \\\n",
    "        + geom_point(size=3,alpha=1) \\\n",
    "        + ggtitle(\"tSNE dimensions colored by digit\")\n",
    "chart"
   ]
  },
  {
   "cell_type": "markdown",
   "metadata": {},
   "source": [
    "In both our PCA and our t-SNE graph, we can see a clear distinction between the before-caffeine cluster and the after-caffeine cluster! This indicates that caffeine is changing transcriptome state as the yeast is reacting to the caffeine in its environment on the transcriptome level.\n",
    "\n",
    "Although PCA and t-SNE is often only helpful to indicate that transcripts are being differentially expressed, it is still a crucial first step in data analysis. After this, scientists will often use [heatmaps](https://en.wikipedia.org/wiki/Heat_map), [multidimensional scaling](https://en.wikipedia.org/wiki/Multidimensional_scaling), [statistical tests] (https://pachterlab.github.io/sleuth_walkthroughs/trapnell/analysis.html), or other techniques to continue exploring the secrets hidden within the data. We invite you to continue learning about different crucial methods used by researches and to continue investigating how yeast uses gene regulation to respond to chemical changes in its environment."
   ]
  },
  {
   "cell_type": "markdown",
   "metadata": {},
   "source": [
    "# Additional Resources\n",
    "\n",
    "- If you are interested in annotation files (`.gff3`), which identify the locations of genes on the genome and the functions of genes, [UCSC Genome Bioinformatics](http://hgdownload.soe.ucsc.edu/downloads.html) is a great starting place to find annotations for your organism.\n",
    "- more technical information on the paired-end sequencing samples used in the original paper can be found [here](https://www.ncbi.nlm.nih.gov/bioproject/PRJNA385168) and [here](https://trace.ncbi.nlm.nih.gov/Traces/sra/sra.cgi?run=SRR5511057). \n",
    "- another common pipline you can explore is: Trimmomatic/STAR/[HTseq](https://htseq.readthedocs.io/en/release_0.11.1/), this provides the expression of transcripts in *counts*, which is great for learning how to do statistical analysis on sequencing data\n",
    "  "
   ]
  }
 ],
 "metadata": {
  "kernelspec": {
   "display_name": "Python 3",
   "language": "python",
   "name": "python3"
  },
  "language_info": {
   "codemirror_mode": {
    "name": "ipython",
    "version": 3
   },
   "file_extension": ".py",
   "mimetype": "text/x-python",
   "name": "python",
   "nbconvert_exporter": "python",
   "pygments_lexer": "ipython3",
   "version": "3.7.1"
  }
 },
 "nbformat": 4,
 "nbformat_minor": 2
}
