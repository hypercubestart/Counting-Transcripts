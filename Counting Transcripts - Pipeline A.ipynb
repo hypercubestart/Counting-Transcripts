{
 "cells": [
  {
   "cell_type": "markdown",
   "metadata": {},
   "source": [
    "# Counting Transcripts - Pipeline A\n",
    "\n",
    "> This is part two of the Counting Transcripts series. We will cover the pipeline: Trimmomatic/STAR/cufflinks, a common sequence of tools to clean, map, and quantify the reads. We will use the data downloaded in [part 1]() of the series. This notebook should be located in the same folder as the previous notebooks.\n",
    "\n",
    "## Setup\n",
    "\n",
    "> As usual, we will first need to setup our working directory."
   ]
  },
  {
   "cell_type": "code",
   "execution_count": null,
   "metadata": {},
   "outputs": [],
   "source": [
    "###IMPORTANT: if you ever restart this notebook, you MUST rerun this code cell\n",
    "import os\n",
    "\n",
    "#feel free to change this location, because we will be working in this folder for the entire tutorial\n",
    "os.environ['WORKDIR'] = './data' "
   ]
  },
  {
   "cell_type": "markdown",
   "metadata": {},
   "source": [
    "### Pipeline A: Trimmomatic/STAR/cufflinks\n",
    "\n",
    "**1a.** [Trimmomatic](http://www.usadellab.org/cms/?page=trimmomatic) is a Java software to trim and remove low quality reads. It also removes adapter sequences from library preparation. After downloading the software from its site, extract the zip file and move it into the ~/software folder. Next, execute the following command:"
   ]
  },
  {
   "cell_type": "code",
   "execution_count": null,
   "metadata": {},
   "outputs": [],
   "source": [
    "!java -jar ~/software/Trimmomatic-0.38/trimmomatic-0.38.jar PE -phred33 \\\n",
    "    $WORKDIR/FASTQ/SRR5511057_1.fastq $WORKDIR/FASTQ/SRR5511057_2.fastq \\\n",
    "    $WORKDIR/cleanFASTQ/SRR5511057.forward_paired.fastq $WORKDIR/cleanFASTQ/SRR5511057.forward_unpaired.fastq \\\n",
    "    $WORKDIR/cleanFASTQ/SRR5511057.reverse_paired.fastq $WORKDIR/cleanFASTQ/SRR5511057.reverse_unpaired.fastq \\\n",
    "    LEADING:3 TRAILING:3 SLIDINGWINDOW:4:15 MINLEN:36"
   ]
  },
  {
   "cell_type": "markdown",
   "metadata": {},
   "source": [
    "Let's look over the arguments used in this command. \n",
    "- `PE` stands for paired end, which is the type of sequencing our sample data came from. \n",
    "- `-phred33` [Phred](https://en.wikipedia.org/wiki/Phred_quality_score) + 33 Quality Score.\n",
    "- `$WORKDIR/FASTQ/SRR5511057_1.fastq` `$WORKDIR/FASTQ/SRR5511057_2.fastq` is the relative location for our input data.\n",
    "- `$WORKDIR/cleanFASTQ/SRR5511057.forward_paired.fastq` `$WORKDIR/cleanFASTQ/SRR5511057.forward_unpaired.fastq` is the relative location for our output forward paired and unpaired data, respectively.\n",
    "- `$WORKDIR/cleanFASTQ/SRR5511057.reverse_paired.fastq` `$WORKDIR/cleanFASTQ/SRR5511057.reverse_unpaired.fastq` is the relative location for our output reverse paired and unpaired data, respectively.\n",
    "- `LEADING:3` removes leading bases with a low quality (below quality 3).\n",
    "- `TRAILING:3` removes trailing bases with a low quality (below quality 3).\n",
    "- `SLIDINGWINDOW:4:15` scans the read with a 4-base sliding window, cutting when the average quality per base drops below 15.\n",
    "- `MINLEN:36` drops reads below the 36 bases long.\n",
    "\n",
    "DNA is double-stranded, but one strand is designated as the \"forward strand\" while the other strand is designated as the \"reverse strand\". Another common term for this is plus/minus strands. Since paired-end sequencing reads match both directions, the reads that are complementary to the forward strand are called \"reverse reads\", while the reads that are complementary with the reverse strand are called \"forward reads\". \n",
    "\n",
    "In paired-end sequencing, reads come in pairs (each fragment yields two reads, one from each end), so if one of the reads is trimmed off by the criteria we set when running Trimmomatic, Trimmomatic will automatically remove the corresponding read and label both reads as \"unpaired\".\n",
    "***"
   ]
  },
  {
   "cell_type": "markdown",
   "metadata": {},
   "source": [
    "**1b.** [Star](https://github.com/alexdobin/STAR) (Spliced Transcripts Alignment to a Reference) is a C++ program to align reads to a reference genome. For performance efficiency, its first step is building an index of our reference genome (this step only needs to be done once!).\n",
    "\n",
    "First, we will need to download STAR software and untar the file. Afterwards, remember to place STAR in the ~/software folder and add it to your PATH."
   ]
  },
  {
   "cell_type": "code",
   "execution_count": null,
   "metadata": {},
   "outputs": [],
   "source": [
    "!wget https://github.com/alexdobin/STAR/archive/2.7.0d.tar.gz\n",
    "!tar -xzf 2.7.0d.tar.gz"
   ]
  },
  {
   "cell_type": "markdown",
   "metadata": {},
   "source": [
    "**1c.** The first step to mapping our reads is to generate an index. Since we are interested in the expression of transcripts, we will download the reference transcriptome sequence from [MicrobesOnline](http://www.microbesonline.org/), an online database of microbial genomic information. Our data was generated in a sample from yeast, or scientifically known as *Saccharomyces ceravisiae*, so we need the FASTA transcriptome for yeast from [here](http://www.microbesonline.org/cgi-bin/genomeInfo.cgi?tId=4932). Unzip the file, and move the resulting file to the $WORKDIR/microbesOnline folder. Then, we will need to make a new folder to store the transcriptome indices."
   ]
  },
  {
   "cell_type": "code",
   "execution_count": null,
   "metadata": {},
   "outputs": [],
   "source": [
    "!mkdir $WORKDIR/transcriptomeIndex"
   ]
  },
  {
   "cell_type": "markdown",
   "metadata": {},
   "source": [
    "To build the index, we will run the following command."
   ]
  },
  {
   "cell_type": "code",
   "execution_count": null,
   "metadata": {},
   "outputs": [],
   "source": [
    "!STAR --runThreadN 8 --runMode genomeGenerate \\\n",
    "    --genomeDir $WORKDIR/transcriptomeIndex --genomeFastaFiles $WORKDIR/microbesOnline/4932.transcriptomes.fasta"
   ]
  },
  {
   "cell_type": "markdown",
   "metadata": {},
   "source": [
    "Each -- defines a new parameter, which are options we specify to STAR\n",
    "- `--runThreadN 8` specifies the number of threads on your computer (hint: run `sysctl -n hw.ncpu` to find out!).\n",
    "- `--runMode genomeGenerate` means that we are building the genome index.\n",
    "- `--genomeDir $WORKDIR/transcriptomeIndex` saves the output the the folder we just created.\n",
    "- `--genomeFastaFiles` are the reference genome sequences (in this case we are using the transcriptome) we are building our index from.\n",
    "\n",
    "**1d.** Now, we map our reads to the transcriptome!"
   ]
  },
  {
   "cell_type": "code",
   "execution_count": null,
   "metadata": {},
   "outputs": [],
   "source": [
    "!STAR --runThreadN 4 --genomeDir $WORKDIR/transcriptomeIndex \\\n",
    "    --readFilesIn $WORKDIR/cleanFASTQ/SRR5511057.forward_paired.fastq $WORKDIR/cleanFASTQ/SRR5511057.reverse_paired.fastq \\\n",
    "     --outSAMtype BAM SortedByCoordinate --outFileNamePrefix $WORKDIR/BAM/\n"
   ]
  },
  {
   "cell_type": "markdown",
   "metadata": {},
   "source": [
    "If you ran into this error: \n",
    "\n",
    "`\n",
    "BAMoutput.cpp:27:BAMoutput: exiting because of *OUTPUT FILE* error: could not create output file ./data/BAM_STARtmp//BAMsort/4/48`\n",
    "\n",
    "SOLUTION: check that the path exists and you have write permission for this file. Also check `ulimit -n` and increase it to allow more open files. Also, it may be worth lowering the number of threads or running `ulimit -n 10000` in the terminal.\n",
    "***"
   ]
  },
  {
   "cell_type": "markdown",
   "metadata": {},
   "source": [
    "Let's look at the options used in this command:\n",
    "- `--runThreadN 4` specifies the number of threads you want to use (run `sysctl -n hw.ncpu` to find the number of threads on your computer!).\n",
    "- `--genomeDir $WORKDIR/transcriptomeIndex` directory where genome index was generated.\n",
    "- `--readFilesIn` input sequence data to be mapped.\n",
    "- `--outSAMtype BAM SortedByCoordinate` outputs a BAM file with sorted aligned reads.\n",
    "- `--outFileNamePrefix` prefix to add to the output file.\n",
    "\n",
    "Our aligned reads are stored in a BAM format, which is a compressed binary version of [SAM](https://en.wikipedia.org/wiki/SAM_(file_format)), a text-based format for storing aligned reads.\n",
    "\n",
    "**1e.** We will now use [cufflinks](http://cole-trapnell-lab.github.io/cufflinks/) to quantify the reads per feature. Download the latest version [here](http://cole-trapnell-lab.github.io/cufflinks/install/), and add the directory to your Path. "
   ]
  },
  {
   "cell_type": "code",
   "execution_count": null,
   "metadata": {},
   "outputs": [],
   "source": [
    "!cufflinks $WORKDIR/BAM/Aligned.sortedByCoord.out.bam --library-type fr-firststrand"
   ]
  },
  {
   "cell_type": "markdown",
   "metadata": {},
   "source": [
    "- `$WORKDIR/BAM/Aligned.sortedByCoord.out.bam` is the file of RNA-seq read alignments in BAM or SAM format\n",
    "- `--library-type fr-firststrand` specifies the library used to prepare our data, we used Illumina's stranded Tru-Seq which is fr-firststrand"
   ]
  },
  {
   "cell_type": "markdown",
   "metadata": {},
   "source": [
    "Cufflinks should generate 4 files: genes.fpkm_tracking, isoforms.fpkm_tracking, skipped.gtf, and transcripts.gtf. Move these files into your $WORKDIR/cufflinks folder. \n",
    "\n",
    "We are interested in the genes.fpkm_tracking file. In our example, we used the FASTA transcriptome to build the STAR index, so the genes.fpkm_tracking file quantifies the expression of every transcript. However, if we were to use the FASTA genome and a GFF3 annotation file to build the STAR index, genes.fpkm_tracking would quantify gene expression while isoforms.fpkm_tracking would quantify the expression for all possible exons.\n",
    "\n",
    "You can open genes.fpkm_tracking using any text editor. You should have a table that looks like the following:\n",
    "\n",
    "|tracking_id\t| class_code | nearest_ref_id | gene_id | gene_short_name | tss_id | locus | length | coverage | FPKM | FPKM_conf_lo | FPKM_conf_hi | FPKM_status |\n",
    "| --- | --- | --- | --- | --- | --- | --- | --- | --- | --- | --- | --- | --- |\n",
    "| CUFF.1 | - | - | CUFF.1 | - | - | VIMSS6580636:30-1540 | - | - | 3.54675 | 2.207 | 4.8865 | OK |\n",
    "| CUFF.2 | - | - | CUFF.2 | - | - | VIMSS6580642:3238-3969 | - | - | 19.8471 | 14.9253 | 24.769 | OK |\n",
    "| ... |\n",
    "\n",
    "In this tutorial, we only care about a few of the columns:\n",
    "1. `gene_id` is the Cufflinks gene id\n",
    "2. `locus` is where the reads was aligned to on the transcriptome, for example: VIMSS6580636:30-1540 means on VIMSS6580636 transcript from the 30th to the 1540th base pair\n",
    "3. `FPKM` is level of transcript expression in FPKM\n",
    "4. `FPKM_conf_lo` is the lower bound of the 95% confidence interval for FPKM\n",
    "5. `FPKM_conf_hi` is the upper bound of the 95% confidence interval for FPKM\n",
    "6. `FPKM_status` is fairly self-explanatory\n",
    "\n",
    "By looking at the FPKM value, we can gain a general understanding of the level of expression of each transcript:\n",
    "- 0-10 is considered low\n",
    "- 10-100 is considered medium\n",
    "- 100-1000 is considered high\n",
    "- 1000+ is considered very high"
   ]
  },
  {
   "cell_type": "markdown",
   "metadata": {},
   "source": [
    "## Check Your Understanding\n",
    "\n",
    "1. If we used pipeline A to measure gene expression in humans and built the STAR index using the entire human genome and an annotation file, would the genes.fpkm_tracking file or isoforms.fpkm_tracking file have more entries?"
   ]
  },
  {
   "cell_type": "markdown",
   "metadata": {},
   "source": [
    "## Answers\n",
    "\n",
    "1. We would expect the isoforms.fpkm_tracking file to contain more entries than the genes.fpkm_tracking file, because while humans only have around 25,000 genes, due to alternative splicing, we have a greater number of exons in our transcriptome than number of genes."
   ]
  }
 ],
 "metadata": {
  "kernelspec": {
   "display_name": "Python 3",
   "language": "python",
   "name": "python3"
  },
  "language_info": {
   "codemirror_mode": {
    "name": "ipython",
    "version": 3
   },
   "file_extension": ".py",
   "mimetype": "text/x-python",
   "name": "python",
   "nbconvert_exporter": "python",
   "pygments_lexer": "ipython3",
   "version": "3.7.1"
  }
 },
 "nbformat": 4,
 "nbformat_minor": 2
}
