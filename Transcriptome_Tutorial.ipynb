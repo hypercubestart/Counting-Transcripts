{
  "nbformat": 4,
  "nbformat_minor": 0,
  "metadata": {
    "colab": {
      "name": "Transcriptome Tutorial.ipynb",
      "version": "0.3.2",
      "provenance": []
    },
    "language_info": {
      "codemirror_mode": {
        "name": "ipython",
        "version": 3
      },
      "file_extension": ".py",
      "mimetype": "text/x-python",
      "name": "python",
      "nbconvert_exporter": "python",
      "pygments_lexer": "ipython3",
      "version": "3.7.1"
    },
    "kernelspec": {
      "display_name": "Python 3",
      "language": "python",
      "name": "python3"
    }
  },
  "cells": [
    {
      "metadata": {
        "colab_type": "text",
        "id": "ROl7-Rhd9if9"
      },
      "cell_type": "markdown",
      "source": [
        "# Transcriptomics Tutorial\n",
        "\n",
        "\n",
        "## Introduction\n",
        "> Cell phenotype is controlled by gene expression regulation, a phenomenon discovered by Barbara McClintock in early 1950s, later described by  Francois Jacob and Jacques Monod in bacteria. Since the discovery of the entire human DNA sequence, scientists have now the knowledge and technology to quantify precisely gene expression at whole genome scale. A particularly interesting layer of regulation occurs at the transcriptome level. The transcriptome is the set of all RNA molecules in the cell. Cellular phenotype is particularly impacted by the pool of messenger RNAs (mRNAs), which results from the transcription of specific genes and serves as template for protein translation. Through the use of transcriptomics techniques, we can determine the abundance of each mRNA in a cell, therefore determining the levels of gene expression. Quantifying gene expression levels in our cells helps us understand important biological phenomena like cell differentiation and mechanisms of human disease.\n",
        "\n",
        "> There are two main transcriptomics technologies use to measure gene expression: (1) [Microarrays](https://en.wikipedia.org/wiki/DNA_microarray) is an older technique used to measure relative abundance of gene expression. We will not cover microarrays here, but this [video](https://www.youtube.com/watch?v=6ZzFihESjp0) does a great job explaining how microarrays works, and (2) RNA sequencing (RNA-seq). In this tutorial, we will focus only focus on RNA-seq data analysis.\n",
        "\n",
        "\n",
        "##  RNA-seq\n",
        "\n",
        "> [RNA-seq](https://en.wikipedia.org/wiki/RNA-Seq) is a technology to quantify gene expression by determining the abundance of specific RNA sequences. There are three main steps to RNA-seq: library preparation, sequencing, and data analysis. \n",
        "\n",
        "> Let's start with the steps happening in the lab. First, we isolate mRNA. Then, using the enzyme reverse transcriptase, mRNA is converted into its complementary DNA strand, cDNA. The cDNA is then cut up into small fragments, usually a few hundred base-pairs long. [Next generation sequencing technologies](https://en.wikipedia.org/wiki/Illumina_dye_sequencing) use fluorescence-tagged nucleotides that bind to short cDNA sequences to recapitulate the sequence of the sample by sequencing, in a massively parallel manner. Each sequenced read (call *reads*) are stored into a file of [FASTQ format](https://en.wikipedia.org/wiki/FASTQ_format).\n",
        "\n",
        "> Later, as part of the data analysis pipeline, theses files containing the sequence of the reads are then cleaned using quality control pipelines, then mapped their sequence to a specific genome / transcriptome / set of features.\n",
        "\n",
        "## File Structure\n",
        "\n",
        "> Organization is a very important skill for any bioinformatics project that is oftentimes overlooked. There is no standard file hierarchy to use, but we will use a file structure that is fairly common among many research scientists:\n",
        "\n",
        "<html>\n",
        "<div style=\"width: 50%;margin: 0 auto; background-color: rgb(242, 242, 242);\">\n",
        "    <code><i>project_name</i>/\n",
        "    data/\n",
        "        BAM/\n",
        "        cleanFASTQ/\n",
        "        cufflinks/\n",
        "        FASTQ/\n",
        "        kallisto/\n",
        "        microbesOnline/\n",
        "        seqData/\n",
        "        transcriptomeIndex/</code>\n",
        "</div>\n",
        "</html>\n",
        "\n",
        "> Also, we will store all downloaded software in a  folder called *software* in the home directory, ~/software, and add binaries of downloaded software to the [PATH](https://en.wikipedia.org/wiki/PATH_(variable)). Instructions for adding to your PATH on Mac can be found [here](https://coolestguidesontheplanet.com/add-shell-path-osx/).\n",
        "\n",
        "## Setup\n",
        "\n",
        "> Below, we will assign the path to the working directory as a global variable that will be used throughout the rest of the notebook."
      ]
    },
    {
      "metadata": {
        "id": "7Ll4PktyDRmv",
        "colab_type": "code",
        "colab": {}
      },
      "cell_type": "code",
      "source": [
        "###IMPORTANT: if you ever restart this notebook, you MUST rerun this code cell\n",
        "import os\n",
        "\n",
        "#feel free to change this location, because we will be working in this folder for the entire tutorial\n",
        "os.environ['WORKDIR'] = './data' "
      ],
      "execution_count": 0,
      "outputs": []
    },
    {
      "metadata": {
        "id": "vNo35L2jDRmy",
        "colab_type": "code",
        "colab": {}
      },
      "cell_type": "code",
      "source": [
        "#create the directory if doesn't exist already\n",
        "!mkdir -p $WORKDIR"
      ],
      "execution_count": 0,
      "outputs": []
    },
    {
      "metadata": {
        "colab_type": "text",
        "id": "kdsef3qW9if-"
      },
      "cell_type": "markdown",
      "source": [
        "\n",
        "# RNA-Seq Data Analysis\n",
        "> In this tutorial, we will use a subset of samples from a published work, where they investigated how microbes adapt to new environments ([PMID 28854640](https://www.ncbi.nlm.nih.gov/pubmed/28854640)). Following standard practices in science, the authors made all data required to reproduce their findings, including the reads for several transcriptome samples, publically available (SRA Project [SRP106486](https://trace.ncbi.nlm.nih.gov/Traces/sra/?study=SRP106486)).\n",
        "\n",
        "First, we need to download the raw data, which in this case is a file of 500 MB. For a connection speed of around 6 MB/s, the file will download in about 2 minutes, but download time will vary depending on your internet connection. Afterwards, move the file into the $WORKDIR/seqData/ folder."
      ]
    },
    {
      "metadata": {
        "colab_type": "code",
        "id": "Rb1gIaCw9if-",
        "outputId": "670d955f-14dd-452a-f397-3c16de0c90ea",
        "scrolled": true,
        "colab": {}
      },
      "cell_type": "code",
      "source": [
        "!wget ftp://ftp-trace.ncbi.nih.gov/sra/sra-instant/reads/ByRun/sra/SRR/SRR551/SRR5511057/SRR5511057.sra"
      ],
      "execution_count": 0,
      "outputs": [
        {
          "output_type": "stream",
          "text": [
            "--2019-02-05 17:30:41--  ftp://ftp-trace.ncbi.nih.gov/sra/sra-instant/reads/ByRun/sra/SRR/SRR551/SRR5511057/SRR5511057.sra\n",
            "           => ‘SRR5511057.sra’\n",
            "Resolving ftp-trace.ncbi.nih.gov (ftp-trace.ncbi.nih.gov)... 130.14.250.7\n",
            "Connecting to ftp-trace.ncbi.nih.gov (ftp-trace.ncbi.nih.gov)|130.14.250.7|:21... connected.\n",
            "Logging in as anonymous ... Logged in!\n",
            "==> SYST ... done.    ==> PWD ... done.\n",
            "==> TYPE I ... done.  ==> CWD (1) /sra/sra-instant/reads/ByRun/sra/SRR/SRR551/SRR5511057 ... done.\n",
            "==> SIZE SRR5511057.sra ... 455056642\n",
            "==> PASV ... done.    ==> RETR SRR5511057.sra ... done.\n",
            "Length: 455056642 (434M) (unauthoritative)\n",
            "\n",
            "SRR5511057.sra      100%[===================>] 433.98M  6.28MB/s    in 83s     \n",
            "\n",
            "2019-02-05 17:32:05 (5.24 MB/s) - ‘SRR5511057.sra’ saved [455056642]\n",
            "\n"
          ],
          "name": "stdout"
        }
      ]
    },
    {
      "metadata": {
        "colab_type": "text",
        "id": "UreiWlGA9igC"
      },
      "cell_type": "markdown",
      "source": [
        "***\n",
        "If the above command returned `wget: command not found`, means you don't have the command `wget` in your machine. Then, try installing Homebrew, run `brew install wget` in terminal, and then try the above command again."
      ]
    },
    {
      "metadata": {
        "colab_type": "text",
        "id": "RwOtgqis9igC"
      },
      "cell_type": "markdown",
      "source": [
        "## Preparing the file\n",
        "You may notice that we downloaded a `.sra` file. This file format contains the raw sequencing data and alignment information in a compressed form. We will convert this into [FASTQ](https://en.wikipedia.org/wiki/FASTQ_format) format, which is the standard file format for storing RNA-seq raw data. FASTQ is a text-based format for storing the biological sequence and its corresponding quality scores. Each read is encoded with 4 lines in strict order:\n",
        "\n",
        "* Line 1: beings with '@' character with an identifier for the sequence and an optional description.\n",
        "* Line 2: raw nucleotide sequence.\n",
        "* Line 3: begins with '+' character with the same sequence identifier and additional optional description.\n",
        "* Line 4: quality of each nucleotide.\n",
        "\n",
        "To help us convert this file into FASTQ, you will need to download [SRA Toolkit](https://www.ncbi.nlm.nih.gov/books/NBK158900/).\n",
        "Although this toolkit contains many helpful tools to help us work with sequencing data, there is only one command we need to learn for now:\n",
        "\n",
        "`fastq-dump --split-files -O <outputDir> <sraFile>`\n",
        "\n",
        "This command converts the .sra file into FASTQ format. The --split-files tag specifies whether our data was obtained using single-end sequencing or paired-end sequencing. Single-end sequencing means that each hybridized fragment is read once, while paired-end sequencing means that each hybridized fragment is read twice (once from each end). Paired-end sequencing results in twice as many reads compared to single-end sequencing, so is therefore more costly, but improves accuracy and the quality of the sequencing."
      ]
    },
    {
      "metadata": {
        "colab_type": "code",
        "id": "JuE8eZgm9igD",
        "outputId": "d806e73a-e5c5-4e3f-d50a-8243269e325b",
        "colab": {}
      },
      "cell_type": "code",
      "source": [
        "!fastq-dump --split-files -O $WORKDIR/FASTQ $WORKDIR/seqData/SRR5511057.sra"
      ],
      "execution_count": 0,
      "outputs": [
        {
          "output_type": "stream",
          "text": [
            "Read 7370822 spots for ./data/seqData/SRR5511057.sra\r\n",
            "Written 7370822 spots for ./data/seqData/SRR5511057.sra\r\n"
          ],
          "name": "stdout"
        }
      ]
    },
    {
      "metadata": {
        "colab_type": "text",
        "id": "0VRA2GMM9igF"
      },
      "cell_type": "markdown",
      "source": [
        "Our data was sequenced using paired-end sequencing, so we used the `--split-files` flag. You should see two new files in your $WORKDIR/FASTQ folder: `SRR5511057_1.fastq` and `SRR5511057_2.fastq`. If you inspect the SRR5511057_1.fastq file with the `head` command, we can see what our reads look like in FASTQ format. Here is the first read, corresponding to the first 4 lines of the file (notice that line 2 and line 4 are exactly the same length! Why does that make sense?<sub>(1)</sub>):\n",
        "\n",
        "<div style=\"border:solid 1px; padding:5px\">\n",
        "@SRR5511057.1 1 length=76 <br>\n",
        "GTCCACACAAGCCAAATGGTGAAATGCAGTTCTGGGTGTGCCTAGGTATAAGGATTTGTCCTTCTTGCTGACAGCT <br>\n",
        "+SRR5511057.1 1 length=76 <br>\n",
        "AAAAAEEEEEEEEEEEEEEEEEEEEEEEEEEEEEEEEEEEEEEEEEEEEEEEEEEE/EEEEEEEEEEEEEAEEEEE\n",
        "</div>"
      ]
    },
    {
      "metadata": {
        "colab_type": "text",
        "id": "8E9OqEqf9igG"
      },
      "cell_type": "markdown",
      "source": [
        "## Converting Raw Data into Usable Data\n",
        "\n",
        "There are three overall steps in RNA-seq transcriptome qualification:\n",
        "1. **Cleaning reads.** Reads typically have a length of 75-250 bp (base-pairs). Due to molecular noise, not all positions of the read have the same likelihood of that event being true. For this reason, we have to clean and trim the data.\n",
        "2. **Mapping reads.** We need to associate reads to our reference features, e.g., transcripts. For this task, we need the FASTQ files and a reference annotation: (1) a set of files that define the genome, typically FASTA files and (2) a file defining where transcripts are located in the genome, typically a GFF3 file. The output of the mapping algorithms is a BAM file, which is a compressed binary file that contains the aligned reads to the reference.\n",
        "3. **Quantifying reads.** Next, we need to associate an expression value to each feature, i.e., quantify the level of expression of our transcripts from the reads alignment.\n",
        "\n",
        "There are 3 major units for quantifying reads: \n",
        "- FPKM: is useful for visualization across genes and samples because it accounts for the variability of transcript length and experimental sequencing depth. This is useful, since longer transcripts will produce more transcript fragments by chance, and in turn will have more reads associated with it since the longer the transcript.\n",
        "- TPM: is similar to FPKM, but it normalizes each gene expression to a constant derived from the sum of expression across all genes. This is helpful for comparison among samples where effective transcript lenght changes. Here's a very helpful [blog post and video](https://www.rna-seqblog.com/rpkm-fpkm-and-tpm-clearly-explained/) understanding the difference between TPM and FPKM.\n",
        "- _counts_: is the raw number of reads that match to the transcript. It is useful for statistical purposes. \n"
      ]
    },
    {
      "metadata": {
        "colab_type": "text",
        "id": "O1GxYpkJ9igH"
      },
      "cell_type": "markdown",
      "source": [
        "***\n",
        "In the following section, we will walk through 3 different pipelines that we can use to clean, map, and quantify the reads."
      ]
    },
    {
      "metadata": {
        "colab_type": "text",
        "id": "Yi0HaACA9igH"
      },
      "cell_type": "markdown",
      "source": [
        "### Pipeline A: Trimmomatic/STAR/cufflinks\n",
        "\n",
        "**1a.** [Trimmomatic](http://www.usadellab.org/cms/?page=trimmomatic) is a Java software to trim and remove low quality reads. It also removes adapter sequences from library preparation. After downloading the software from its site, extract the zip file and move it into the ~/software folder. Next, execute the following command:"
      ]
    },
    {
      "metadata": {
        "colab_type": "code",
        "id": "qnmlB-Bx9igK",
        "outputId": "551c2545-62dd-4f73-9318-9f4e731500f7",
        "colab": {}
      },
      "cell_type": "code",
      "source": [
        "!java -jar ~/software/Trimmomatic-0.38/trimmomatic-0.38.jar PE -phred33 \\\n",
        "    $WORKDIR/FASTQ/SRR5511057_1.fastq $WORKDIR/FASTQ/SRR5511057_2.fastq \\\n",
        "    $WORKDIR/cleanFASTQ/SRR5511057.forward_paired.fastq $WORKDIR/cleanFASTQ/SRR5511057.forward_unpaired.fastq \\\n",
        "    $WORKDIR/cleanFASTQ/SRR5511057.reverse_paired.fastq $WORKDIR/cleanFASTQ/SRR5511057.reverse_unpaired.fastq \\\n",
        "    LEADING:3 TRAILING:3 SLIDINGWINDOW:4:15 MINLEN:36"
      ],
      "execution_count": 0,
      "outputs": [
        {
          "output_type": "stream",
          "text": [
            "TrimmomaticPE: Started with arguments:\n",
            " -phred33 ./data/sequence_data/SRR5511057_1.fastq ./data/sequence_data/SRR5511057_2.fastq ./data/sequence_data/SRR5511057.forward_paired.fastq ./data/sequence_data/SRR5511057.forward_unpaired.fastq ./data/sequence_data/SRR5511057.reverse_paired.fastq ./data/sequence_data/SRR5511057.reverse_unpaired.fastq LEADING:3 TRAILING:3 SLIDINGWINDOW:4:15 MINLEN:36\n",
            "Multiple cores found: Using 4 threads\n",
            "Input Read Pairs: 7370822 Both Surviving: 6915652 (93.82%) Forward Only Surviving: 369084 (5.01%) Reverse Only Surviving: 56673 (0.77%) Dropped: 29413 (0.40%)\n",
            "TrimmomaticPE: Completed successfully\n"
          ],
          "name": "stdout"
        }
      ]
    },
    {
      "metadata": {
        "colab_type": "text",
        "id": "35Jmyzga9igN"
      },
      "cell_type": "markdown",
      "source": [
        "Let's look over the arguments used in this command. \n",
        "- `PE` stands for paired end, which is the type of sequencing our sample data came from. \n",
        "- `-phred33` [Phred](https://en.wikipedia.org/wiki/Phred_quality_score) + 33 Quality Score.\n",
        "- `$WORKDIR/FASTQ/SRR5511057_1.fastq` `$WORKDIR/FASTQ/SRR5511057_2.fastq` is the relative location for our input data.\n",
        "- `$WORKDIR/cleanFASTQ/SRR5511057.forward_paired.fastq` `$WORKDIR/cleanFASTQ/SRR5511057.forward_unpaired.fastq` is the relative location for our output forward paired and unpaired data, respectively.\n",
        "- `$WORKDIR/cleanFASTQ/SRR5511057.reverse_paired.fastq` `$WORKDIR/cleanFASTQ/SRR5511057.reverse_unpaired.fastq` is the relative location for our output reverse paired and unpaired data, respectively.\n",
        "- `LEADING:3` removes leading bases with a low quality (below quality 3).\n",
        "- `TRAILING:3` removes trailing bases with a low quality (below quality 3).\n",
        "- `SLIDINGWINDOW:4:15` scans the read with a 4-base sliding window, cutting when the average quality per base drops below 15.\n",
        "- `MINLEN:36` drops reads below the 36 bases long.\n",
        "\n",
        "DNA is double-stranded, but one strand is designated as the \"forward strand\" while the other strand is designated as the \"reverse strand\". Another common term for this is plus/minus strands. Since paired-end sequencing reads match both directions, the reads that are complementary to the forward strand are called \"reverse reads\", while the reads that are complementary with the reverse strand are called \"forward reads\". \n",
        "\n",
        "In paired-end sequencing, reads come in pairs (each fragment yields two reads, one from each end), so if one of the reads is trimmed off by the criteria we set when running Trimmomatic, Trimmomatic will automatically remove the corresponding read and label both reads as \"unpaired\".\n",
        "***"
      ]
    },
    {
      "metadata": {
        "colab_type": "text",
        "id": "8Q4YJ-Le9igN"
      },
      "cell_type": "markdown",
      "source": [
        "**1b.** [Star](https://github.com/alexdobin/STAR) (Spliced Transcripts Alignment to a Reference) is a C++ program to align reads to a reference genome. For performance efficiency, its first step is building an index of our reference genome (this step only needs to be done once!).\n",
        "\n",
        "First, we will need to download STAR software and untar the file. Afterwards, remember to place STAR in the ~/software folder and add it to your PATH."
      ]
    },
    {
      "metadata": {
        "colab_type": "code",
        "id": "kXU2Pe5D9igO",
        "outputId": "25522bd5-1a98-4221-c418-f68f851ee898",
        "colab": {}
      },
      "cell_type": "code",
      "source": [
        "!wget https://github.com/alexdobin/STAR/archive/2.7.0d.tar.gz\n",
        "!tar -xzf 2.7.0d.tar.gz"
      ],
      "execution_count": 0,
      "outputs": [
        {
          "output_type": "stream",
          "text": [
            "--2019-02-19 10:27:34--  https://github.com/alexdobin/STAR/archive/2.7.0d.tar.gz\n",
            "Resolving github.com (github.com)... 192.30.255.113, 192.30.255.112\n",
            "Connecting to github.com (github.com)|192.30.255.113|:443... connected.\n",
            "HTTP request sent, awaiting response... 302 Found\n",
            "Location: https://codeload.github.com/alexdobin/STAR/tar.gz/2.7.0d [following]\n",
            "--2019-02-19 10:27:35--  https://codeload.github.com/alexdobin/STAR/tar.gz/2.7.0d\n",
            "Resolving codeload.github.com (codeload.github.com)... 192.30.255.121, 192.30.255.120\n",
            "Connecting to codeload.github.com (codeload.github.com)|192.30.255.121|:443... connected.\n",
            "HTTP request sent, awaiting response... 200 OK\n",
            "Length: unspecified [application/x-gzip]\n",
            "Saving to: ‘2.7.0d.tar.gz’\n",
            "\n",
            "2.7.0d.tar.gz           [        <=>         ]   7.69M  4.94MB/s    in 1.6s    \n",
            "\n",
            "2019-02-19 10:27:36 (4.94 MB/s) - ‘2.7.0d.tar.gz’ saved [8062298]\n",
            "\n"
          ],
          "name": "stdout"
        }
      ]
    },
    {
      "metadata": {
        "colab_type": "text",
        "id": "Jj_egHZu9igQ"
      },
      "cell_type": "markdown",
      "source": [
        "**1c.** The first step to mapping our reads is to generate an index. Since we are interested in the expression of transcripts, we will download the reference transcriptome sequence from [MicrobesOnline](http://www.microbesonline.org/), an online database of microbial genomic information. Our data was generated in a sample from yeast, or scientifically known as *Saccharomyces ceravisiae*, so we need the FASTA transcriptome for yeast from [here](http://www.microbesonline.org/cgi-bin/genomeInfo.cgi?tId=4932). Unzip the file, and move the resulting file to the $WORKDIR/microbesOnline folder. Then, we will need to make a new folder to store the transcriptome indices."
      ]
    },
    {
      "metadata": {
        "colab_type": "code",
        "id": "AinjBoW99igQ",
        "colab": {}
      },
      "cell_type": "code",
      "source": [
        "!mkdir $WORKDIR/transcriptomeIndex"
      ],
      "execution_count": 0,
      "outputs": []
    },
    {
      "metadata": {
        "colab_type": "text",
        "id": "z8X1ecOw9igS"
      },
      "cell_type": "markdown",
      "source": [
        "To build the index, we will run the following command."
      ]
    },
    {
      "metadata": {
        "colab_type": "code",
        "id": "5ntrzPe39igS",
        "outputId": "cc2c9d2c-067f-4c44-b15b-b39ee2962f01",
        "colab": {}
      },
      "cell_type": "code",
      "source": [
        "!STAR --runThreadN 8 --runMode genomeGenerate \\\n",
        "    --genomeDir $WORKDIR/transcriptomeIndex --genomeFastaFiles $WORKDIR/microbesOnline/4932.transcriptomes.fasta"
      ],
      "execution_count": 0,
      "outputs": [
        {
          "output_type": "stream",
          "text": [
            "Feb 19 15:13:26 ..... started STAR run\n",
            "Feb 19 15:13:26 ... starting to generate Genome files\n",
            "Feb 19 15:13:35 ... starting to sort Suffix Array. This may take a long time...\n",
            "Feb 19 15:13:40 ... sorting Suffix Array chunks and saving them to disk...\n",
            "Feb 19 15:13:46 ... loading chunks from disk, packing SA...\n",
            "Feb 19 15:13:48 ... finished generating suffix array\n",
            "Feb 19 15:13:48 ... generating Suffix Array index\n",
            "Feb 19 15:13:55 ... completed Suffix Array index\n",
            "Feb 19 15:13:55 ... writing Genome to disk ...\n",
            "Feb 19 15:13:57 ... writing Suffix Array to disk ...\n",
            "Feb 19 15:13:57 ... writing SAindex to disk\n",
            "Feb 19 15:13:59 ..... finished successfully\n"
          ],
          "name": "stdout"
        }
      ]
    },
    {
      "metadata": {
        "colab_type": "text",
        "id": "hSvfdu0g9igU"
      },
      "cell_type": "markdown",
      "source": [
        "Each -- defines a new parameter, which are options we specify to STAR\n",
        "- `--runThreadN 8` specifies the number of threads on your computer (hint: run `sysctl -n hw.ncpu` to find out!).\n",
        "- `--runMode genomeGenerate` means that we are building the genome index.\n",
        "- `--genomeDir $WORKDIR/transcriptomeIndex` saves the output the the folder we just created.\n",
        "- `--genomeFastaFiles` are the reference genome sequences (in this case we are using the transcriptome) we are building our index from.\n",
        "\n",
        "**1d.** Now, we map our reads to the transcriptome!"
      ]
    },
    {
      "metadata": {
        "colab_type": "code",
        "id": "S-UEMAfA9igV",
        "outputId": "be1b579c-b488-479d-c164-5aa5d3a95b81",
        "scrolled": true,
        "colab": {}
      },
      "cell_type": "code",
      "source": [
        "!STAR --runThreadN 4 --genomeDir $WORKDIR/transcriptomeIndex \\\n",
        "    --readFilesIn $WORKDIR/cleanFASTQ/SRR5511057.forward_paired.fastq $WORKDIR/cleanFASTQ/SRR5511057.reverse_paired.fastq \\\n",
        "     --outSAMtype BAM SortedByCoordinate --outFileNamePrefix $WORKDIR/BAM/\n"
      ],
      "execution_count": 0,
      "outputs": [
        {
          "output_type": "stream",
          "text": [
            "Apr 11 22:45:32 ..... started STAR run\n",
            "Apr 11 22:45:32 ..... loading genome\n",
            "Apr 11 22:45:38 ..... started mapping\n",
            "Apr 11 22:46:48 ..... finished mapping\n",
            "Apr 11 22:46:48 ..... started sorting BAM\n",
            "Apr 11 22:46:56 ..... finished successfully\n"
          ],
          "name": "stdout"
        }
      ]
    },
    {
      "metadata": {
        "colab_type": "text",
        "id": "0IqjHKh19igX"
      },
      "cell_type": "markdown",
      "source": [
        "If you ran into this error: \n",
        "\n",
        "`\n",
        "BAMoutput.cpp:27:BAMoutput: exiting because of *OUTPUT FILE* error: could not create output file ./data/BAM_STARtmp//BAMsort/4/48`\n",
        "\n",
        "SOLUTION: check that the path exists and you have write permission for this file. Also check `ulimit -n` and increase it to allow more open files. Also, it may be worth lowering the number of threads or running `ulimit -n 10000` in the terminal.\n",
        "***"
      ]
    },
    {
      "metadata": {
        "colab_type": "text",
        "id": "dPaDqe8A9igY"
      },
      "cell_type": "markdown",
      "source": [
        "Let's look at the options used in this command:\n",
        "- `--runThreadN 4` specifies the number of threads you want to use (run `sysctl -n hw.ncpu` to find the number of threads on your computer!).\n",
        "- `--genomeDir $WORKDIR/transcriptomeIndex` directory where genome index was generated.\n",
        "- `--readFilesIn` input sequence data to be mapped.\n",
        "- `--outSAMtype BAM SortedByCoordinate` outputs a BAM file with sorted aligned reads.\n",
        "- `--outFileNamePrefix` prefix to add to the output file.\n",
        "\n",
        "Our aligned reads are stored in a BAM format, which is a compressed binary version of [SAM](https://en.wikipedia.org/wiki/SAM_(file_format)), a text-based format for storing aligned reads.\n",
        "\n",
        "**1e.** We will now use [cufflinks](http://cole-trapnell-lab.github.io/cufflinks/) to quantify the reads per feature. Download the latest version [here](http://cole-trapnell-lab.github.io/cufflinks/install/), and add the directory to your Path. "
      ]
    },
    {
      "metadata": {
        "colab_type": "code",
        "id": "SnzCISia9igY",
        "outputId": "675af77d-d1b8-461b-bd40-07ec8cf95437",
        "colab": {}
      },
      "cell_type": "code",
      "source": [
        "!cufflinks $WORKDIR/BAM/Aligned.sortedByCoord.out.bam --library-type fr-firststrand"
      ],
      "execution_count": 0,
      "outputs": [
        {
          "output_type": "stream",
          "text": [
            "Warning: Could not connect to update server to verify current version. Please check at the Cufflinks website (http://cufflinks.cbcb.umd.edu).\n",
            "[22:47:40] Inspecting reads and determining fragment length distribution.\n",
            "> Processed 6316 loci.                         [*************************] 100%\n",
            "> Map Properties:\n",
            ">\tNormalized Map Mass: 6039610.00\n",
            ">\tRaw Map Mass: 6039610.00\n",
            ">\tFragment Length Distribution: Empirical (learned)\n",
            ">\t              Estimated Mean: 157.12\n",
            ">\t           Estimated Std Dev: 62.28\n",
            "[22:48:28] Assembling transcripts and estimating abundances.\n",
            "> Processed 6316 loci.                         [*************************] 100%\n"
          ],
          "name": "stdout"
        }
      ]
    },
    {
      "metadata": {
        "id": "iVbjO5pbDRnL",
        "colab_type": "text"
      },
      "cell_type": "markdown",
      "source": [
        "- `$WORKDIR/BAM/Aligned.sortedByCoord.out.bam` is the file of RNA-seq read alignments in BAM or SAM format\n",
        "- `--library-type fr-firststrand` specifies the library used to prepare our data, we used Illumina's stranded Tru-Seq which is fr-firststrand"
      ]
    },
    {
      "metadata": {
        "id": "sPV06Z-mDRnM",
        "colab_type": "text"
      },
      "cell_type": "markdown",
      "source": [
        "Cufflinks should generate 4 files: genes.fpkm_tracking, isoforms.fpkm_tracking, skipped.gtf, and transcripts.gtf. Move these files into your $WORKDIR/cufflinks folder. \n",
        "\n",
        "We are interested in the genes.fpkm_tracking file. In our example, we used the FASTA transcriptome to build the STAR index, so the genes.fpkm_tracking file quantifies the expression of every transcript. However, if we were to use the FASTA genome and a GFF3 annotation file to build the STAR index, genes.fpkm_tracking would quantify gene expression while isoforms.fpkm_tracking would quantify the expression for all possible exons.\n",
        "\n",
        "You can open genes.fpkm_tracking using any text editor. You should have a table that looks like the following:\n",
        "\n",
        "|tracking_id\t| class_code | nearest_ref_id | gene_id | gene_short_name | tss_id | locus | length | coverage | FPKM | FPKM_conf_lo | FPKM_conf_hi | FPKM_status |\n",
        "| --- | --- | --- | --- | --- | --- | --- | --- | --- | --- | --- | --- | --- |\n",
        "| CUFF.1 | - | - | CUFF.1 | - | - | VIMSS6580636:30-1540 | - | - | 3.54675 | 2.207 | 4.8865 | OK |\n",
        "| CUFF.2 | - | - | CUFF.2 | - | - | VIMSS6580642:3238-3969 | - | - | 19.8471 | 14.9253 | 24.769 | OK |\n",
        "| ... |\n",
        "\n",
        "In this tutorial, we only care about a few of the columns:\n",
        "1. `gene_id` is the Cufflinks gene id\n",
        "2. `locus` is where the reads was aligned to on the transcriptome, for example: VIMSS6580636:30-1540 means on VIMSS6580636 transcript from the 30th to the 1540th base pair\n",
        "3. `FPKM` is level of transcript expression in FPKM\n",
        "4. `FPKM_conf_lo` is the lower bound of the 95% confidence interval for FPKM\n",
        "5. `FPKM_conf_hi` is the upper bound of the 95% confidence interval for FPKM\n",
        "6. `FPKM_status` is fairly self-explanatory\n",
        "\n",
        "By looking at the FPKM value, we can gain a general understanding of the level of expression of each transcript:\n",
        "- 0-10 is considered low\n",
        "- 10-100 is considered medium\n",
        "- 100-1000 is considered high\n",
        "- 1000+ is considered very high\n",
        "\n",
        "**Question:** If we used pipeline A to measure gene expression in humans and built the STAR index using the entire human genome and an annotation file, would the genes.fpkm_tracking file or isoforms.fpkm_tracking file have more entries?<sub>(2)</sub>"
      ]
    },
    {
      "metadata": {
        "colab_type": "text",
        "id": "Ftqz2Ex_9igb"
      },
      "cell_type": "markdown",
      "source": [
        "### Pipeline B: Trimmomatic/killisto\n",
        "If you have walked through pipeline A, you can skip Trimmomatic because you have already cleaned the reads.\n",
        "If you still need to clean your data, see instructions for [Trimmomatic](http://www.usadellab.org/cms/?page=trimmomatic) in pipeline A, then return here.\n",
        "\n",
        "[Kallisto](https://pachterlab.github.io/kallisto/) is a program that appeared in [2015](https://liorpachter.wordpress.com/2015/05/10/near-optimal-rna-seq-quantification-with-kallisto/) developed in Lior Patcher's group. It is based on _pseudo-alignment_ using [k-mers](https://en.wikipedia.org/wiki/K-mer) instead of reads. It is fast, accurate, and robust. And simple to use. All you need it to create is an index of your transcriptome (or any target reference sequence) and you will be ready to apply it on your FASTQ files. This [video](https://www.youtube.com/watch?v=94wphB3GKBM) has a great explanation of how kallisto differs from other mapping tools.\n",
        "\n",
        "**2a.** The first step is to create a kallisto index, and we can use the same transcriptome FASTA file from pipeline A."
      ]
    },
    {
      "metadata": {
        "colab_type": "code",
        "id": "8nNjvh8G9igc",
        "outputId": "1ac20d3a-1c81-43f5-edf3-200ca7b35542",
        "colab": {}
      },
      "cell_type": "code",
      "source": [
        "!kallisto index -i $WORKDIR/kallisto/transcripts.idx $WORKDIR/microbesOnline/4932.transcriptomes.fasta"
      ],
      "execution_count": 0,
      "outputs": [
        {
          "output_type": "stream",
          "text": [
            "\n",
            "[build] loading fasta file ./data/microbesOnline/4932.transcriptomes.fasta\n",
            "[build] k-mer length: 31\n",
            "[build] counting k-mers ... done.\n",
            "[build] building target de Bruijn graph ...  done \n",
            "[build] creating equivalence classes ...  done\n",
            "[build] target de Bruijn graph has 11350 contigs and contains 8201152 k-mers \n",
            "\n"
          ],
          "name": "stdout"
        }
      ]
    },
    {
      "metadata": {
        "colab_type": "text",
        "id": "1r30AhLu9ige"
      },
      "cell_type": "markdown",
      "source": [
        "**2b.** Kallisto combines the mapping and quantifying steps into one, so unlike pipeline A which first uses STAR to map the reads to a reference genome sequence and then uses cufflinks to quantify the aligned reads, we can run just one command to get a file representing levels of gene expression."
      ]
    },
    {
      "metadata": {
        "colab_type": "code",
        "id": "IafBa-Fm9igf",
        "outputId": "ee7923e6-f1b6-466d-fa4c-ca5d9adf002a",
        "colab": {}
      },
      "cell_type": "code",
      "source": [
        "!kallisto quant -i $WORKDIR/kallisto/transcripts.idx -o $WORKDIR/kallisto/output \\\n",
        "    $WORKDIR/cleanFASTQ/SRR5511057.forward_paired.fastq $WORKDIR/cleanFASTQ/SRR5511057.reverse_paired.fastq"
      ],
      "execution_count": 0,
      "outputs": [
        {
          "output_type": "stream",
          "text": [
            "\n",
            "[quant] fragment length distribution will be estimated from the data\n",
            "[index] k-mer length: 31\n",
            "[index] number of targets: 6,333\n",
            "[index] number of k-mers: 8,201,152\n",
            "[index] number of equivalence classes: 7,745\n",
            "[quant] running in paired-end mode\n",
            "[quant] will process pair 1: ./data/cleanFASTQ/SRR5511057.forward_paired.fastq\n",
            "                             ./data/cleanFASTQ/SRR5511057.reverse_paired.fastq\n",
            "[quant] finding pseudoalignments for the reads ... done\n",
            "[quant] processed 6,915,652 reads, 6,505,430 reads pseudoaligned\n",
            "[quant] estimated average fragment length: 159.718\n",
            "[   em] quantifying the abundances ... done\n",
            "[   em] the Expectation-Maximization algorithm ran for 838 rounds\n",
            "\n"
          ],
          "name": "stdout"
        }
      ]
    },
    {
      "metadata": {
        "colab_type": "text",
        "id": "l5aqcJ0r9igi"
      },
      "cell_type": "markdown",
      "source": [
        "Once the above command has finished, you should see a new folder called `output`. If you look inside, there should be a file called `abundance.tsv` with five columns:\n",
        " 1. The first column is `target_id`, which is the identifier of the transcript from the FASTA transcriptome we downloaded. \n",
        " 2. The second column is `length`, which is the length of the transcript in base pairs. \n",
        " 3. The third column is `eff_length`, which stands for effective length. This is the length of the original transcript that matches with reads. \n",
        " 4. The fourth column is `est_counts`, which stands for estimated counts. This is almost the same as _counts_, but accounts for the amount of bias in the experiment. \n",
        " 5. This fifth column is `tpm`, which is the metric for the level of gene expression.\n",
        " \n",
        "For more information about these expression units, visit [this blog post](https://haroldpimentel.wordpress.com/2014/05/08/what-the-fpkm-a-review-rna-seq-expression-units/).\n",
        "\n",
        "\n",
        "**Question:** What would you expect to be the most expressed transcript in yeast to be?<sub>(3)</sub>"
      ]
    },
    {
      "metadata": {
        "colab_type": "text",
        "id": "Xs_zbI7k9igj"
      },
      "cell_type": "markdown",
      "source": [
        "## Extension 1: Evaluating differentially expressed transcripts \n",
        "\n",
        "From this one sample, we can see that some transcripts are expressed more or less than other transcripts, but this data does not give any insight about the effect of changes in transcript abundance and cellular behavior. This is why we need to compare the transcript expression of different samples. For example, imagine we would like to address the following question: which transcripts are responsible for making this a cancerous cell? We would look at the transcript expression between a normal cell and a cancerous cell, and analyze transcripts that are differentially expressed between the two samples. In this extension, we will begin looking at differentially expressed transcripts by visualizing the levels of transcription between different samples.\n",
        "\n",
        "We will continue to use samples from the adaptive prediction paper ([PMID 28854640](https://www.ncbi.nlm.nih.gov/pubmed/28854640)) to analyze the effects of caffeine on yeast at the transcriptome level. \n",
        "\n",
        "Before we download the data from the other samples, let us clean our working directories. For the following folders `$WORKDIR/BAM/`, `$WORKDIR/cleanFASTQ/`, `$WORKDIR/cufflinks/`, `$WORKDIR/FASTQ/`, and `$WORKDIR/kallisto/`, create new folders in each folder specifying the experiment (1a, 1c, 2a, 2c, 3a, 3c). In the pipeline tutorials, we were working with data from 1a, so move any existing files into your new 1a folder. However, in the kallisto folder, leave the transcripts.idx file under /data/kallisto because we can reuse the kallisto index and it should be shared between the samples.\n",
        "\n",
        "For example, your `$WORKDIR/kallisto/` folder should look something like this:\n",
        "<html>\n",
        "<div style=\"width: 50%;margin: 0 auto; background-color: rgb(242, 242, 242);\">\n",
        "    <code><i>kallisto</i>/\n",
        "    transcripts.idx\n",
        "    1a/\n",
        "        abundance.h5\n",
        "        abundance.tsv\n",
        "        run_info.json\n",
        "    1c/\n",
        "    2a/\n",
        "    2c/\n",
        "    3a/\n",
        "    3c/</code>\n",
        "</div>\n",
        "</html>\n",
        "\n",
        "We will now download the sequencing data from replicate 1 after caffeine, replicate 2 before and after caffeine, and replicate 3 before and after caffeine. Research scientists use replicates to check that outcomes are not due to chance. This is different from a trial, because a **trial** refers to a certain action performed many times repeatedly using the exact same object, while a **replicate** would perform a certain action on many of the same object. \n",
        "\n",
        "An example of a trial is flipping the same coin three times, while replicates would be flipping three different coins.\n",
        "\n",
        "\n",
        "| Replicate # | Before Caffeine (a) | After Caffeine (c) |\n",
        "| --- | --- | --- |\n",
        "| 1 | [SRX2785036](https://www.ncbi.nlm.nih.gov/sra/SRX2785036[accn]) | [SRX2785039](https://www.ncbi.nlm.nih.gov/sra/SRX2785039[accn]) |\n",
        "| 2 | [SRX2785037](https://www.ncbi.nlm.nih.gov/sra/SRX2785037[accn]) | [SRX2785040](https://www.ncbi.nlm.nih.gov/sra/SRX2785040[accn]) |\n",
        "| 3 | [SRX2785038](https://www.ncbi.nlm.nih.gov/sra/SRX2785038[accn]) | [SRX2785041](https://www.ncbi.nlm.nih.gov/sra/SRX2785041[accn]) |\n",
        "\n",
        "SRA toolkit provides a very easy to use executable called `prefetch`, which we can call to help us download the sequencing data files. All we have to do is provide the SRA accession, a unique identifier provided by the [NCBI](https://www.ncbi.nlm.nih.gov/) for each sample."
      ]
    },
    {
      "metadata": {
        "colab_type": "code",
        "id": "7uudzND49igk",
        "outputId": "4a64ce68-2f22-466e-80cc-2714915a3176",
        "colab": {}
      },
      "cell_type": "code",
      "source": [
        "!prefetch SRX2785037\n",
        "!prefetch SRX2785038\n",
        "!prefetch SRX2785039\n",
        "!prefetch SRX2785040\n",
        "!prefetch SRX2785041"
      ],
      "execution_count": 0,
      "outputs": [
        {
          "output_type": "stream",
          "text": [
            "\n",
            "2019-02-21T21:15:09 prefetch.2.9.4: 1) Downloading 'SRX2785037'...\n",
            "2019-02-21T21:15:09 prefetch.2.9.4:  Downloading via https...\n",
            "2019-02-21T21:17:21 prefetch.2.9.4:  https download succeed\n",
            "2019-02-21T21:17:21 prefetch.2.9.4: 1) 'SRX2785037' was downloaded successfully\n",
            "2019-02-21T21:17:21 prefetch.2.9.4: 'SRX2785037' has 0 unresolved dependencies\n",
            "\n",
            "2019-02-21T21:18:37 prefetch.2.9.4: 1) Downloading 'SRX2785038'...\n",
            "2019-02-21T21:18:37 prefetch.2.9.4:  Downloading via https...\n",
            "2019-02-21T21:19:41 prefetch.2.9.4:  https download succeed\n",
            "2019-02-21T21:19:41 prefetch.2.9.4: 1) 'SRX2785038' was downloaded successfully\n",
            "2019-02-21T21:19:41 prefetch.2.9.4: 'SRX2785038' has 0 unresolved dependencies\n",
            "\n",
            "2019-02-21T21:20:57 prefetch.2.9.4: 1) Downloading 'SRX2785039'...\n",
            "2019-02-21T21:20:57 prefetch.2.9.4:  Downloading via https...\n",
            "2019-02-21T21:22:36 prefetch.2.9.4:  https download succeed\n",
            "2019-02-21T21:22:36 prefetch.2.9.4: 1) 'SRX2785039' was downloaded successfully\n",
            "2019-02-21T21:22:36 prefetch.2.9.4: 'SRX2785039' has 0 unresolved dependencies\n",
            "\n",
            "2019-02-21T21:23:52 prefetch.2.9.4: 1) Downloading 'SRX2785040'...\n",
            "2019-02-21T21:23:52 prefetch.2.9.4:  Downloading via https...\n",
            "2019-02-21T21:26:09 prefetch.2.9.4:  https download succeed\n",
            "2019-02-21T21:26:09 prefetch.2.9.4: 1) 'SRX2785040' was downloaded successfully\n",
            "2019-02-21T21:26:09 prefetch.2.9.4: 'SRX2785040' has 0 unresolved dependencies\n",
            "\n",
            "2019-02-21T21:27:25 prefetch.2.9.4: 1) Downloading 'SRX2785041'...\n",
            "2019-02-21T21:27:25 prefetch.2.9.4:  Downloading via https...\n",
            "2019-02-21T21:28:58 prefetch.2.9.4:  https download succeed\n",
            "2019-02-21T21:28:58 prefetch.2.9.4: 1) 'SRX2785041' was downloaded successfully\n",
            "2019-02-21T21:28:58 prefetch.2.9.4: 'SRX2785041' has 0 unresolved dependencies\n"
          ],
          "name": "stdout"
        }
      ]
    },
    {
      "metadata": {
        "colab_type": "text",
        "id": "IBbH6uga9igo"
      },
      "cell_type": "markdown",
      "source": [
        "These files usually download automatically to a new location, the `~/ncbi/public/sra/` folder, so lets move all the files to our /data/seqData folder."
      ]
    },
    {
      "metadata": {
        "colab_type": "code",
        "id": "rbVjzlfJ9igo",
        "outputId": "2f37dcce-50c2-402e-aeea-0934e38621eb",
        "scrolled": true,
        "colab": {}
      },
      "cell_type": "code",
      "source": [
        "!mv -v  ~/ncbi/public/sra/* $WORKDIR/seqData"
      ],
      "execution_count": 0,
      "outputs": [
        {
          "output_type": "stream",
          "text": [
            "/Users/andrewliu/ncbi/public/sra/SRR5511058.sra -> ./data/seqData/SRR5511058.sra\r\n",
            "/Users/andrewliu/ncbi/public/sra/SRR5511059.sra -> ./data/seqData/SRR5511059.sra\r\n",
            "/Users/andrewliu/ncbi/public/sra/SRR5511060.sra -> ./data/seqData/SRR5511060.sra\r\n",
            "/Users/andrewliu/ncbi/public/sra/SRR5511061.sra -> ./data/seqData/SRR5511061.sra\r\n",
            "/Users/andrewliu/ncbi/public/sra/SRR5511062.sra -> ./data/seqData/SRR5511062.sra\r\n"
          ],
          "name": "stdout"
        }
      ]
    },
    {
      "metadata": {
        "colab_type": "text",
        "id": "2qwOZKx29igq"
      },
      "cell_type": "markdown",
      "source": [
        "Using the same procedure as above, let's generate metrics to measure the level of gene expression in each experiment. Feel free to reference above if you need help, but **remember to change file names and locations**.\n",
        "\n",
        "1. convert to FASTQ\n",
        "2. clean the reads\n",
        "3. map the reads to the reference transcriptome sequence (we already generated the transcriptomeIndex, so no need to do it again!)\n",
        "4. quantify the aligned reads\n",
        "\n",
        "If you get stuck, here is the list of commands to run:"
      ]
    },
    {
      "metadata": {
        "colab_type": "code",
        "id": "YJBqar2E9igr",
        "outputId": "1693347d-88d4-4727-98a7-24cbe08250da",
        "colab": {}
      },
      "cell_type": "code",
      "source": [
        "!fastq-dump --split-files -O $WORKDIR/FASTQ/2a $WORKDIR/seqDATA/SRR5511058.sra"
      ],
      "execution_count": 0,
      "outputs": [
        {
          "output_type": "stream",
          "text": [
            "Read 6811851 spots for ./data/seqDATA/SRR5511058.sra\r\n",
            "Written 6811851 spots for ./data/seqDATA/SRR5511058.sra\r\n"
          ],
          "name": "stdout"
        }
      ]
    },
    {
      "metadata": {
        "colab_type": "code",
        "id": "4dN4VwNw9igt",
        "outputId": "0d56a0c3-ed8e-4788-e6dd-0749f04a9974",
        "colab": {}
      },
      "cell_type": "code",
      "source": [
        "!fastq-dump --split-files -O $WORKDIR/FASTQ/3a $WORKDIR/seqDATA/SRR5511059.sra"
      ],
      "execution_count": 0,
      "outputs": [
        {
          "output_type": "stream",
          "text": [
            "Read 2577860 spots for ./data/seqDATA/SRR5511059.sra\r\n",
            "Written 2577860 spots for ./data/seqDATA/SRR5511059.sra\r\n"
          ],
          "name": "stdout"
        }
      ]
    },
    {
      "metadata": {
        "colab_type": "code",
        "id": "OJL2-KgL9igw",
        "outputId": "f4d680bf-7a86-4886-a677-2737f4c32bbf",
        "colab": {}
      },
      "cell_type": "code",
      "source": [
        "!fastq-dump --split-files -O $WORKDIR/FASTQ/1c $WORKDIR/seqDATA/SRR5511060.sra"
      ],
      "execution_count": 0,
      "outputs": [
        {
          "output_type": "stream",
          "text": [
            "Read 5187380 spots for ./data/seqDATA/SRR5511060.sra\r\n",
            "Written 5187380 spots for ./data/seqDATA/SRR5511060.sra\r\n"
          ],
          "name": "stdout"
        }
      ]
    },
    {
      "metadata": {
        "colab_type": "code",
        "id": "cXQ-PHNa9igy",
        "outputId": "f9e16987-ba86-49a3-e4f9-b48651acf277",
        "colab": {}
      },
      "cell_type": "code",
      "source": [
        "!fastq-dump --split-files -O $WORKDIR/FASTQ/2c $WORKDIR/seqDATA/SRR5511061.sra"
      ],
      "execution_count": 0,
      "outputs": [
        {
          "output_type": "stream",
          "text": [
            "Read 6148895 spots for ./data/seqDATA/SRR5511061.sra\r\n",
            "Written 6148895 spots for ./data/seqDATA/SRR5511061.sra\r\n"
          ],
          "name": "stdout"
        }
      ]
    },
    {
      "metadata": {
        "colab_type": "code",
        "id": "zgT0B_RG9ig0",
        "outputId": "2d8e32c5-f54c-415f-bf7c-23dfc34a69a2",
        "colab": {}
      },
      "cell_type": "code",
      "source": [
        "!fastq-dump --split-files -O $WORKDIR/FASTQ/3c $WORKDIR/seqDATA/SRR5511062.sra"
      ],
      "execution_count": 0,
      "outputs": [
        {
          "output_type": "stream",
          "text": [
            "Read 4211946 spots for ./data/seqDATA/SRR5511062.sra\r\n",
            "Written 4211946 spots for ./data/seqDATA/SRR5511062.sra\r\n"
          ],
          "name": "stdout"
        }
      ]
    },
    {
      "metadata": {
        "colab_type": "code",
        "id": "EI21hNJ99ig2",
        "outputId": "6487edcc-9f4e-4076-bcf2-07417345b61b",
        "colab": {}
      },
      "cell_type": "code",
      "source": [
        "!java -jar ~/software/Trimmomatic-0.38/trimmomatic-0.38.jar PE -phred33 \\\n",
        "    $WORKDIR/FASTQ/2a/SRR5511058_1.fastq $WORKDIR/FASTQ/2a/SRR5511058_2.fastq \\\n",
        "    $WORKDIR/cleanFASTQ/2a/SRR5511058.forward_paired.fastq $WORKDIR/cleanFASTQ/2a/SRR5511058.forward_unpaired.fastq \\\n",
        "    $WORKDIR/cleanFASTQ/2a/SRR5511058.reverse_paired.fastq $WORKDIR/cleanFASTQ/2a/SRR5511058.reverse_unpaired.fastq \\\n",
        "    LEADING:3 TRAILING:3 SLIDINGWINDOW:4:15 MINLEN:36"
      ],
      "execution_count": 0,
      "outputs": [
        {
          "output_type": "stream",
          "text": [
            "TrimmomaticPE: Started with arguments:\n",
            " -phred33 ./data/FASTQ/2a/SRR5511058_1.fastq ./data/FASTQ/2a/SRR5511058_2.fastq ./data/cleanFASTQ/2a/SRR5511058.forward_paired.fastq ./data/cleanFASTQ/2a/SRR5511058.forward_unpaired.fastq ./data/cleanFASTQ/2a/SRR5511058.reverse_paired.fastq ./data/cleanFASTQ/2a/SRR5511058.reverse_unpaired.fastq LEADING:3 TRAILING:3 SLIDINGWINDOW:4:15 MINLEN:36\n",
            "Multiple cores found: Using 4 threads\n",
            "Input Read Pairs: 6811851 Both Surviving: 6381302 (93.68%) Forward Only Surviving: 341875 (5.02%) Reverse Only Surviving: 58767 (0.86%) Dropped: 29907 (0.44%)\n",
            "TrimmomaticPE: Completed successfully\n"
          ],
          "name": "stdout"
        }
      ]
    },
    {
      "metadata": {
        "colab_type": "code",
        "id": "dfRUn51Z9ig4",
        "outputId": "d3f48285-0d5c-4db6-b810-905f363a0d5e",
        "colab": {}
      },
      "cell_type": "code",
      "source": [
        "!java -jar ~/software/Trimmomatic-0.38/trimmomatic-0.38.jar PE -phred33 \\\n",
        "    $WORKDIR/FASTQ/3a/SRR5511059_1.fastq $WORKDIR/FASTQ/3a/SRR5511059_2.fastq \\\n",
        "    $WORKDIR/cleanFASTQ/3a/SRR5511059.forward_paired.fastq $WORKDIR/cleanFASTQ/3a/SRR5511059.forward_unpaired.fastq \\\n",
        "    $WORKDIR/cleanFASTQ/3a/SRR5511059.reverse_paired.fastq $WORKDIR/cleanFASTQ/3a/SRR5511059.reverse_unpaired.fastq \\\n",
        "    LEADING:3 TRAILING:3 SLIDINGWINDOW:4:15 MINLEN:36"
      ],
      "execution_count": 0,
      "outputs": [
        {
          "output_type": "stream",
          "text": [
            "TrimmomaticPE: Started with arguments:\n",
            " -phred33 ./data/FASTQ/3a/SRR5511059_1.fastq ./data/FASTQ/3a/SRR5511059_2.fastq ./data/cleanFASTQ/3a/SRR5511059.forward_paired.fastq ./data/cleanFASTQ/3a/SRR5511059.forward_unpaired.fastq ./data/cleanFASTQ/3a/SRR5511059.reverse_paired.fastq ./data/cleanFASTQ/3a/SRR5511059.reverse_unpaired.fastq LEADING:3 TRAILING:3 SLIDINGWINDOW:4:15 MINLEN:36\n",
            "Multiple cores found: Using 4 threads\n",
            "Input Read Pairs: 2577860 Both Surviving: 2454399 (95.21%) Forward Only Surviving: 99434 (3.86%) Reverse Only Surviving: 16473 (0.64%) Dropped: 7554 (0.29%)\n",
            "TrimmomaticPE: Completed successfully\n"
          ],
          "name": "stdout"
        }
      ]
    },
    {
      "metadata": {
        "colab_type": "code",
        "id": "7GpqfPeA9ig5",
        "outputId": "17795eb4-d0a2-41fb-f9c7-6a16084ef838",
        "colab": {}
      },
      "cell_type": "code",
      "source": [
        "!java -jar ~/software/Trimmomatic-0.38/trimmomatic-0.38.jar PE -phred33 \\\n",
        "    $WORKDIR/FASTQ/1c/SRR5511060_1.fastq $WORKDIR/FASTQ/1c/SRR5511060_2.fastq \\\n",
        "    $WORKDIR/cleanFASTQ/1c/SRR5511060.forward_paired.fastq $WORKDIR/cleanFASTQ/1c/SRR5511060.forward_unpaired.fastq \\\n",
        "    $WORKDIR/cleanFASTQ/1c/SRR5511060.reverse_paired.fastq $WORKDIR/cleanFASTQ/1c/SRR5511060.reverse_unpaired.fastq \\\n",
        "    LEADING:3 TRAILING:3 SLIDINGWINDOW:4:15 MINLEN:36"
      ],
      "execution_count": 0,
      "outputs": [
        {
          "output_type": "stream",
          "text": [
            "TrimmomaticPE: Started with arguments:\n",
            " -phred33 ./data/FASTQ/1c/SRR5511060_1.fastq ./data/FASTQ/1c/SRR5511060_2.fastq ./data/cleanFASTQ/1c/SRR5511060.forward_paired.fastq ./data/cleanFASTQ/1c/SRR5511060.forward_unpaired.fastq ./data/cleanFASTQ/1c/SRR5511060.reverse_paired.fastq ./data/cleanFASTQ/1c/SRR5511060.reverse_unpaired.fastq LEADING:3 TRAILING:3 SLIDINGWINDOW:4:15 MINLEN:36\n",
            "Multiple cores found: Using 4 threads\n",
            "Input Read Pairs: 5187380 Both Surviving: 4894727 (94.36%) Forward Only Surviving: 224109 (4.32%) Reverse Only Surviving: 44706 (0.86%) Dropped: 23838 (0.46%)\n",
            "TrimmomaticPE: Completed successfully\n"
          ],
          "name": "stdout"
        }
      ]
    },
    {
      "metadata": {
        "colab_type": "code",
        "id": "VKCVBAJz9ig7",
        "outputId": "3af69683-e4db-4859-899e-55b52e18878a",
        "colab": {}
      },
      "cell_type": "code",
      "source": [
        "!java -jar ~/software/Trimmomatic-0.38/trimmomatic-0.38.jar PE -phred33 \\\n",
        "    $WORKDIR/FASTQ/2c/SRR5511061_1.fastq $WORKDIR/FASTQ/2c/SRR5511061_2.fastq \\\n",
        "    $WORKDIR/cleanFASTQ/2c/SRR5511061.forward_paired.fastq $WORKDIR/cleanFASTQ/2c/SRR5511061.forward_unpaired.fastq \\\n",
        "    $WORKDIR/cleanFASTQ/2c/SRR5511061.reverse_paired.fastq $WORKDIR/cleanFASTQ/2c/SRR5511061.reverse_unpaired.fastq \\\n",
        "    LEADING:3 TRAILING:3 SLIDINGWINDOW:4:15 MINLEN:36"
      ],
      "execution_count": 0,
      "outputs": [
        {
          "output_type": "stream",
          "text": [
            "TrimmomaticPE: Started with arguments:\n",
            " -phred33 ./data/FASTQ/2c/SRR5511061_1.fastq ./data/FASTQ/2c/SRR5511061_2.fastq ./data/cleanFASTQ/2c/SRR5511061.forward_paired.fastq ./data/cleanFASTQ/2c/SRR5511061.forward_unpaired.fastq ./data/cleanFASTQ/2c/SRR5511061.reverse_paired.fastq ./data/cleanFASTQ/2c/SRR5511061.reverse_unpaired.fastq LEADING:3 TRAILING:3 SLIDINGWINDOW:4:15 MINLEN:36\n",
            "Multiple cores found: Using 4 threads\n",
            "Input Read Pairs: 6148895 Both Surviving: 5871459 (95.49%) Forward Only Surviving: 218792 (3.56%) Reverse Only Surviving: 40469 (0.66%) Dropped: 18175 (0.30%)\n",
            "TrimmomaticPE: Completed successfully\n"
          ],
          "name": "stdout"
        }
      ]
    },
    {
      "metadata": {
        "colab_type": "code",
        "id": "RU803qEH9ihA",
        "outputId": "c55479fd-1f53-4dd6-f0c7-0128247b3080",
        "colab": {}
      },
      "cell_type": "code",
      "source": [
        "!java -jar ~/software/Trimmomatic-0.38/trimmomatic-0.38.jar PE -phred33 \\\n",
        "    $WORKDIR/FASTQ/3c/SRR5511062_1.fastq $WORKDIR/FASTQ/3c/SRR5511062_2.fastq \\\n",
        "    $WORKDIR/cleanFASTQ/3c/SRR5511062.forward_paired.fastq $WORKDIR/cleanFASTQ/3c/SRR5511062.forward_unpaired.fastq \\\n",
        "    $WORKDIR/cleanFASTQ/3c/SRR5511062.reverse_paired.fastq $WORKDIR/cleanFASTQ/3c/SRR5511062.reverse_unpaired.fastq \\\n",
        "    LEADING:3 TRAILING:3 SLIDINGWINDOW:4:15 MINLEN:36"
      ],
      "execution_count": 0,
      "outputs": [
        {
          "output_type": "stream",
          "text": [
            "TrimmomaticPE: Started with arguments:\n",
            " -phred33 ./data/FASTQ/3c/SRR5511062_1.fastq ./data/FASTQ/3c/SRR5511062_2.fastq ./data/cleanFASTQ/3c/SRR5511062.forward_paired.fastq ./data/cleanFASTQ/3c/SRR5511062.forward_unpaired.fastq ./data/cleanFASTQ/3c/SRR5511062.reverse_paired.fastq ./data/cleanFASTQ/3c/SRR5511062.reverse_unpaired.fastq LEADING:3 TRAILING:3 SLIDINGWINDOW:4:15 MINLEN:36\n",
            "Multiple cores found: Using 4 threads\n",
            "Input Read Pairs: 4211946 Both Surviving: 3988920 (94.70%) Forward Only Surviving: 181396 (4.31%) Reverse Only Surviving: 28039 (0.67%) Dropped: 13591 (0.32%)\n",
            "TrimmomaticPE: Completed successfully\n"
          ],
          "name": "stdout"
        }
      ]
    },
    {
      "metadata": {
        "colab_type": "code",
        "id": "_b4Hxklx9ihC",
        "outputId": "81dfa51c-eb0d-48fd-eec1-8866ab9cf1e1",
        "scrolled": true,
        "colab": {}
      },
      "cell_type": "code",
      "source": [
        "!kallisto quant -i $WORKDIR/kallisto/transcripts.idx -o $WORKDIR/kallisto/2a \\\n",
        "    $WORKDIR/cleanFASTQ/2a/SRR5511058.forward_paired.fastq $WORKDIR/cleanFASTQ/2a/SRR5511058.reverse_paired.fastq\n",
        "\n",
        "!kallisto quant -i $WORKDIR/kallisto/transcripts.idx -o $WORKDIR/kallisto/3a \\\n",
        "    $WORKDIR/cleanFASTQ/3a/SRR5511059.forward_paired.fastq $WORKDIR/cleanFASTQ/3a/SRR5511059.reverse_paired.fastq\n",
        "\n",
        "!kallisto quant -i $WORKDIR/kallisto/transcripts.idx -o $WORKDIR/kallisto/1c \\\n",
        "    $WORKDIR/cleanFASTQ/1c/SRR5511060.forward_paired.fastq $WORKDIR/cleanFASTQ/1c/SRR5511060.reverse_paired.fastq\n",
        "\n",
        "!kallisto quant -i $WORKDIR/kallisto/transcripts.idx -o $WORKDIR/kallisto/2c \\\n",
        "    $WORKDIR/cleanFASTQ/2c/SRR5511061.forward_paired.fastq $WORKDIR/cleanFASTQ/2c/SRR5511061.reverse_paired.fastq\n",
        "\n",
        "!kallisto quant -i $WORKDIR/kallisto/transcripts.idx -o $WORKDIR/kallisto/3c \\\n",
        "    $WORKDIR/cleanFASTQ/3c/SRR5511062.forward_paired.fastq $WORKDIR/cleanFASTQ/3c/SRR5511062.reverse_paired.fastq"
      ],
      "execution_count": 0,
      "outputs": [
        {
          "output_type": "stream",
          "text": [
            "\n",
            "[quant] fragment length distribution will be estimated from the data\n",
            "[index] k-mer length: 31\n",
            "[index] number of targets: 6,333\n",
            "[index] number of k-mers: 8,201,152\n",
            "[index] number of equivalence classes: 7,745\n",
            "[quant] running in paired-end mode\n",
            "[quant] will process pair 1: ./data/cleanFASTQ/2a/SRR5511058.forward_paired.fastq\n",
            "                             ./data/cleanFASTQ/2a/SRR5511058.reverse_paired.fastq\n",
            "[quant] finding pseudoalignments for the reads ... done\n",
            "[quant] processed 6,381,302 reads, 6,107,084 reads pseudoaligned\n",
            "[quant] estimated average fragment length: 158.378\n",
            "[   em] quantifying the abundances ... done\n",
            "[   em] the Expectation-Maximization algorithm ran for 995 rounds\n",
            "\n",
            "\n",
            "[quant] fragment length distribution will be estimated from the data\n",
            "[index] k-mer length: 31\n",
            "[index] number of targets: 6,333\n",
            "[index] number of k-mers: 8,201,152\n",
            "[index] number of equivalence classes: 7,745\n",
            "[quant] running in paired-end mode\n",
            "[quant] will process pair 1: ./data/cleanFASTQ/3a/SRR5511059.forward_paired.fastq\n",
            "                             ./data/cleanFASTQ/3a/SRR5511059.reverse_paired.fastq\n",
            "[quant] finding pseudoalignments for the reads ... done\n",
            "[quant] processed 2,454,399 reads, 2,344,810 reads pseudoaligned\n",
            "[quant] estimated average fragment length: 167.083\n",
            "[   em] quantifying the abundances ... done\n",
            "[   em] the Expectation-Maximization algorithm ran for 913 rounds\n",
            "\n",
            "\n",
            "[quant] fragment length distribution will be estimated from the data\n",
            "[index] k-mer length: 31\n",
            "[index] number of targets: 6,333\n",
            "[index] number of k-mers: 8,201,152\n",
            "[index] number of equivalence classes: 7,745\n",
            "[quant] running in paired-end mode\n",
            "[quant] will process pair 1: ./data/cleanFASTQ/1c/SRR5511060.forward_paired.fastq\n",
            "                             ./data/cleanFASTQ/1c/SRR5511060.reverse_paired.fastq\n",
            "[quant] finding pseudoalignments for the reads ... done\n",
            "[quant] processed 4,894,727 reads, 4,693,261 reads pseudoaligned\n",
            "[quant] estimated average fragment length: 165.64\n",
            "[   em] quantifying the abundances ... done\n",
            "[   em] the Expectation-Maximization algorithm ran for 714 rounds\n",
            "\n",
            "\n",
            "[quant] fragment length distribution will be estimated from the data\n",
            "[index] k-mer length: 31\n",
            "[index] number of targets: 6,333\n",
            "[index] number of k-mers: 8,201,152\n",
            "[index] number of equivalence classes: 7,745\n",
            "[quant] running in paired-end mode\n",
            "[quant] will process pair 1: ./data/cleanFASTQ/2c/SRR5511061.forward_paired.fastq\n",
            "                             ./data/cleanFASTQ/2c/SRR5511061.reverse_paired.fastq\n",
            "[quant] finding pseudoalignments for the reads ... done\n",
            "[quant] processed 5,871,459 reads, 5,663,614 reads pseudoaligned\n",
            "[quant] estimated average fragment length: 152.94\n",
            "[   em] quantifying the abundances ... done\n",
            "[   em] the Expectation-Maximization algorithm ran for 1,057 rounds\n",
            "\n",
            "\n",
            "[quant] fragment length distribution will be estimated from the data\n",
            "[index] k-mer length: 31\n",
            "[index] number of targets: 6,333\n",
            "[index] number of k-mers: 8,201,152\n",
            "[index] number of equivalence classes: 7,745\n",
            "[quant] running in paired-end mode\n",
            "[quant] will process pair 1: ./data/cleanFASTQ/3c/SRR5511062.forward_paired.fastq\n",
            "                             ./data/cleanFASTQ/3c/SRR5511062.reverse_paired.fastq\n",
            "[quant] finding pseudoalignments for the reads ... done\n",
            "[quant] processed 3,988,920 reads, 3,832,481 reads pseudoaligned\n",
            "[quant] estimated average fragment length: 157.058\n",
            "[   em] quantifying the abundances ... done\n",
            "[   em] the Expectation-Maximization algorithm ran for 614 rounds\n",
            "\n"
          ],
          "name": "stdout"
        }
      ]
    },
    {
      "metadata": {
        "colab_type": "text",
        "id": "b-8mfy5p9ihE"
      },
      "cell_type": "markdown",
      "source": [
        "We now have the gene expression in 6 different samples in terms of TPM. A common first step is to validate our data through visualization. We can imagine each sample as a single data point on our graph, where we have n-dimensions for the number of transcripts in yeast. We can expect the \"before-caffeine samples\" to form one cluster and the \"after-caffeine experiments\" to form another cluster. However, how do we transform our high-dimensional transcript expression data into 2-dimensional data?\n",
        "\n",
        "We will explore two popular algorithms for dimensionality reduction: [t-SNE](https://en.wikipedia.org/wiki/T-distributed_stochastic_neighbor_embedding)(t-distributed stochastic neighbor embedding) and [PCA](https://en.wikipedia.org/wiki/Principal_component_analysis)(principal component analysis). \n",
        "\n",
        "We will use Python and use several different libraries. Downloading python libraries is very easy using the [pip](https://pip.pypa.io/en/stable/quickstart/) command."
      ]
    },
    {
      "metadata": {
        "colab_type": "code",
        "id": "duO9MUnX9ihE",
        "scrolled": true,
        "colab": {}
      },
      "cell_type": "code",
      "source": [
        "#import dependencies\n",
        "import pandas as pd\n",
        "from sklearn.manifold import TSNE\n",
        "from sklearn.decomposition import PCA\n",
        "import time\n",
        "import math\n",
        "from plotnine import *\n",
        "import numpy as np\n",
        "import os"
      ],
      "execution_count": 0,
      "outputs": []
    },
    {
      "metadata": {
        "colab_type": "code",
        "id": "QUIOWtWX9ihF",
        "outputId": "3ce61ed0-fba9-46da-85a4-165d0dddd5ce",
        "colab": {}
      },
      "cell_type": "code",
      "source": [
        "#import data\n",
        "a1 = pd.read_csv(os.environ['WORKDIR'] + '/kallisto/1a/abundance.tsv', sep='\\t', header=0, usecols=['target_id', 'tpm'])\n",
        "a2 = pd.read_csv(os.environ['WORKDIR'] + '/kallisto/2a/abundance.tsv', sep='\\t', header=0, usecols=['target_id', 'tpm'])\n",
        "a3 = pd.read_csv(os.environ['WORKDIR'] + '/kallisto/3a/abundance.tsv', sep='\\t', header=0, usecols=['target_id', 'tpm'])\n",
        "c1 = pd.read_csv(os.environ['WORKDIR'] + '/kallisto/1c/abundance.tsv', sep='\\t', header=0, usecols=['target_id', 'tpm'])\n",
        "c2 = pd.read_csv(os.environ['WORKDIR'] + '/kallisto/2c/abundance.tsv', sep='\\t', header=0, usecols=['target_id', 'tpm'])\n",
        "c3 = pd.read_csv(os.environ['WORKDIR'] + '/kallisto/3c/abundance.tsv', sep='\\t', header=0, usecols=['target_id', 'tpm'])\n",
        "\n",
        "#parse each sample's data\n",
        "a1.rename(columns = {'tpm':'a1'}, inplace = True)\n",
        "a2.rename(columns = {'tpm':'a2'}, inplace = True)\n",
        "a3.rename(columns = {'tpm':'a3'}, inplace = True)\n",
        "c1.rename(columns = {'tpm':'c1'}, inplace = True)\n",
        "c2.rename(columns = {'tpm':'c2'}, inplace = True)\n",
        "c3.rename(columns = {'tpm':'c3'}, inplace = True)\n",
        "a2 = a2.drop('target_id', axis=1)\n",
        "a3 = a3.drop('target_id', axis=1)\n",
        "c1 = c1.drop('target_id', axis=1)\n",
        "c2 = c2.drop('target_id', axis=1)\n",
        "c3 = c3.drop('target_id', axis=1)\n",
        "\n",
        "#combine samples into one table, where each row represents a sample and columns represent transcript\n",
        "dataframe = pd.concat([a1,a2,a3,c1,c2,c3], axis=1)\n",
        "dataframe = dataframe.T\n",
        "dataframe.columns = dataframe.iloc[0]\n",
        "dataframe = dataframe.drop('target_id')\n",
        "\n",
        "#clear memory, don't need references anymore\n",
        "del a1,a2,a3,c1,c2,c3\n",
        "\n",
        "#clean data by removing possible noise\n",
        "#filter out columns where any value is less than 10 (lowly expressed)\n",
        "min_threshold = 10\n",
        "for column in dataframe:\n",
        "    for value in dataframe[column]:\n",
        "        if value < min_threshold:\n",
        "            dataframe.drop(column, axis=1, inplace=True)\n",
        "            break\n",
        "\n",
        "#log base 10 all values in dataframe\n",
        "dataframe.applymap(lambda x: math.log(x, 10))"
      ],
      "execution_count": 0,
      "outputs": [
        {
          "output_type": "execute_result",
          "data": {
            "text/html": [
              "<div>\n",
              "<style scoped>\n",
              "    .dataframe tbody tr th:only-of-type {\n",
              "        vertical-align: middle;\n",
              "    }\n",
              "\n",
              "    .dataframe tbody tr th {\n",
              "        vertical-align: top;\n",
              "    }\n",
              "\n",
              "    .dataframe thead th {\n",
              "        text-align: right;\n",
              "    }\n",
              "</style>\n",
              "<table border=\"1\" class=\"dataframe\">\n",
              "  <thead>\n",
              "    <tr style=\"text-align: right;\">\n",
              "      <th>target_id</th>\n",
              "      <th>VIMSS6580644</th>\n",
              "      <th>VIMSS6580645</th>\n",
              "      <th>VIMSS6580646</th>\n",
              "      <th>VIMSS6580647</th>\n",
              "      <th>VIMSS6580648</th>\n",
              "      <th>VIMSS6580649</th>\n",
              "      <th>VIMSS6580651</th>\n",
              "      <th>VIMSS6580653</th>\n",
              "      <th>VIMSS6580656</th>\n",
              "      <th>VIMSS6580657</th>\n",
              "      <th>...</th>\n",
              "      <th>VIMSS6586892</th>\n",
              "      <th>VIMSS6586893</th>\n",
              "      <th>VIMSS6586898</th>\n",
              "      <th>VIMSS6580614</th>\n",
              "      <th>VIMSS6580621</th>\n",
              "      <th>VIMSS6580622</th>\n",
              "      <th>VIMSS6580627</th>\n",
              "      <th>VIMSS6580628</th>\n",
              "      <th>VIMSS6580629</th>\n",
              "      <th>VIMSS6580612</th>\n",
              "    </tr>\n",
              "  </thead>\n",
              "  <tbody>\n",
              "    <tr>\n",
              "      <th>a1</th>\n",
              "      <td>2.001253</td>\n",
              "      <td>2.314166</td>\n",
              "      <td>1.591324</td>\n",
              "      <td>1.138631</td>\n",
              "      <td>1.495095</td>\n",
              "      <td>1.540466</td>\n",
              "      <td>1.596420</td>\n",
              "      <td>1.880289</td>\n",
              "      <td>1.723808</td>\n",
              "      <td>2.099069</td>\n",
              "      <td>...</td>\n",
              "      <td>1.387208</td>\n",
              "      <td>1.639635</td>\n",
              "      <td>1.821620</td>\n",
              "      <td>2.330458</td>\n",
              "      <td>1.653391</td>\n",
              "      <td>1.996965</td>\n",
              "      <td>1.362009</td>\n",
              "      <td>1.409023</td>\n",
              "      <td>1.801380</td>\n",
              "      <td>1.902422</td>\n",
              "    </tr>\n",
              "    <tr>\n",
              "      <th>a2</th>\n",
              "      <td>1.871936</td>\n",
              "      <td>2.351112</td>\n",
              "      <td>1.458062</td>\n",
              "      <td>1.090011</td>\n",
              "      <td>1.459961</td>\n",
              "      <td>1.393377</td>\n",
              "      <td>1.563595</td>\n",
              "      <td>1.805389</td>\n",
              "      <td>1.777433</td>\n",
              "      <td>2.074169</td>\n",
              "      <td>...</td>\n",
              "      <td>1.261981</td>\n",
              "      <td>1.582633</td>\n",
              "      <td>1.857878</td>\n",
              "      <td>2.350058</td>\n",
              "      <td>1.817173</td>\n",
              "      <td>1.938477</td>\n",
              "      <td>1.001145</td>\n",
              "      <td>1.465667</td>\n",
              "      <td>1.930689</td>\n",
              "      <td>1.939737</td>\n",
              "    </tr>\n",
              "    <tr>\n",
              "      <th>a3</th>\n",
              "      <td>1.955481</td>\n",
              "      <td>2.315626</td>\n",
              "      <td>1.437268</td>\n",
              "      <td>1.211801</td>\n",
              "      <td>1.492533</td>\n",
              "      <td>1.504729</td>\n",
              "      <td>1.595578</td>\n",
              "      <td>1.846698</td>\n",
              "      <td>1.660973</td>\n",
              "      <td>2.140822</td>\n",
              "      <td>...</td>\n",
              "      <td>1.275938</td>\n",
              "      <td>1.631825</td>\n",
              "      <td>1.801223</td>\n",
              "      <td>2.336622</td>\n",
              "      <td>1.524715</td>\n",
              "      <td>2.082688</td>\n",
              "      <td>1.119444</td>\n",
              "      <td>1.549779</td>\n",
              "      <td>1.980582</td>\n",
              "      <td>1.883486</td>\n",
              "    </tr>\n",
              "    <tr>\n",
              "      <th>c1</th>\n",
              "      <td>1.767758</td>\n",
              "      <td>1.876159</td>\n",
              "      <td>1.507000</td>\n",
              "      <td>1.136264</td>\n",
              "      <td>1.357550</td>\n",
              "      <td>1.263331</td>\n",
              "      <td>1.548698</td>\n",
              "      <td>1.813714</td>\n",
              "      <td>1.963342</td>\n",
              "      <td>2.113850</td>\n",
              "      <td>...</td>\n",
              "      <td>1.284956</td>\n",
              "      <td>1.490526</td>\n",
              "      <td>1.831983</td>\n",
              "      <td>2.325329</td>\n",
              "      <td>1.676088</td>\n",
              "      <td>1.928189</td>\n",
              "      <td>1.233260</td>\n",
              "      <td>1.569479</td>\n",
              "      <td>1.906061</td>\n",
              "      <td>1.853782</td>\n",
              "    </tr>\n",
              "    <tr>\n",
              "      <th>c2</th>\n",
              "      <td>1.921927</td>\n",
              "      <td>2.002891</td>\n",
              "      <td>1.441230</td>\n",
              "      <td>1.141130</td>\n",
              "      <td>1.332368</td>\n",
              "      <td>1.349048</td>\n",
              "      <td>1.579315</td>\n",
              "      <td>1.799521</td>\n",
              "      <td>1.921784</td>\n",
              "      <td>2.192283</td>\n",
              "      <td>...</td>\n",
              "      <td>1.253885</td>\n",
              "      <td>1.496107</td>\n",
              "      <td>1.850982</td>\n",
              "      <td>2.337631</td>\n",
              "      <td>1.754243</td>\n",
              "      <td>1.941409</td>\n",
              "      <td>1.286061</td>\n",
              "      <td>1.776610</td>\n",
              "      <td>1.915668</td>\n",
              "      <td>1.832984</td>\n",
              "    </tr>\n",
              "    <tr>\n",
              "      <th>c3</th>\n",
              "      <td>1.895282</td>\n",
              "      <td>1.935375</td>\n",
              "      <td>1.514434</td>\n",
              "      <td>1.191018</td>\n",
              "      <td>1.364104</td>\n",
              "      <td>1.251660</td>\n",
              "      <td>1.655679</td>\n",
              "      <td>1.814967</td>\n",
              "      <td>1.772066</td>\n",
              "      <td>2.164014</td>\n",
              "      <td>...</td>\n",
              "      <td>1.322463</td>\n",
              "      <td>1.495933</td>\n",
              "      <td>1.912814</td>\n",
              "      <td>2.340575</td>\n",
              "      <td>1.693179</td>\n",
              "      <td>1.943146</td>\n",
              "      <td>1.423976</td>\n",
              "      <td>1.710578</td>\n",
              "      <td>1.997486</td>\n",
              "      <td>1.607802</td>\n",
              "    </tr>\n",
              "  </tbody>\n",
              "</table>\n",
              "<p>6 rows × 4305 columns</p>\n",
              "</div>"
            ],
            "text/plain": [
              "target_id  VIMSS6580644  VIMSS6580645  VIMSS6580646  VIMSS6580647  \\\n",
              "a1             2.001253      2.314166      1.591324      1.138631   \n",
              "a2             1.871936      2.351112      1.458062      1.090011   \n",
              "a3             1.955481      2.315626      1.437268      1.211801   \n",
              "c1             1.767758      1.876159      1.507000      1.136264   \n",
              "c2             1.921927      2.002891      1.441230      1.141130   \n",
              "c3             1.895282      1.935375      1.514434      1.191018   \n",
              "\n",
              "target_id  VIMSS6580648  VIMSS6580649  VIMSS6580651  VIMSS6580653  \\\n",
              "a1             1.495095      1.540466      1.596420      1.880289   \n",
              "a2             1.459961      1.393377      1.563595      1.805389   \n",
              "a3             1.492533      1.504729      1.595578      1.846698   \n",
              "c1             1.357550      1.263331      1.548698      1.813714   \n",
              "c2             1.332368      1.349048      1.579315      1.799521   \n",
              "c3             1.364104      1.251660      1.655679      1.814967   \n",
              "\n",
              "target_id  VIMSS6580656  VIMSS6580657      ...       VIMSS6586892  \\\n",
              "a1             1.723808      2.099069      ...           1.387208   \n",
              "a2             1.777433      2.074169      ...           1.261981   \n",
              "a3             1.660973      2.140822      ...           1.275938   \n",
              "c1             1.963342      2.113850      ...           1.284956   \n",
              "c2             1.921784      2.192283      ...           1.253885   \n",
              "c3             1.772066      2.164014      ...           1.322463   \n",
              "\n",
              "target_id  VIMSS6586893  VIMSS6586898  VIMSS6580614  VIMSS6580621  \\\n",
              "a1             1.639635      1.821620      2.330458      1.653391   \n",
              "a2             1.582633      1.857878      2.350058      1.817173   \n",
              "a3             1.631825      1.801223      2.336622      1.524715   \n",
              "c1             1.490526      1.831983      2.325329      1.676088   \n",
              "c2             1.496107      1.850982      2.337631      1.754243   \n",
              "c3             1.495933      1.912814      2.340575      1.693179   \n",
              "\n",
              "target_id  VIMSS6580622  VIMSS6580627  VIMSS6580628  VIMSS6580629  \\\n",
              "a1             1.996965      1.362009      1.409023      1.801380   \n",
              "a2             1.938477      1.001145      1.465667      1.930689   \n",
              "a3             2.082688      1.119444      1.549779      1.980582   \n",
              "c1             1.928189      1.233260      1.569479      1.906061   \n",
              "c2             1.941409      1.286061      1.776610      1.915668   \n",
              "c3             1.943146      1.423976      1.710578      1.997486   \n",
              "\n",
              "target_id  VIMSS6580612  \n",
              "a1             1.902422  \n",
              "a2             1.939737  \n",
              "a3             1.883486  \n",
              "c1             1.853782  \n",
              "c2             1.832984  \n",
              "c3             1.607802  \n",
              "\n",
              "[6 rows x 4305 columns]"
            ]
          },
          "metadata": {
            "tags": []
          },
          "execution_count": 26
        }
      ]
    },
    {
      "metadata": {
        "colab_type": "code",
        "id": "KVs1NkW89ihH",
        "outputId": "4146474b-084b-428a-8160-db898c288652",
        "colab": {}
      },
      "cell_type": "code",
      "source": [
        "# perform PCA calculations\n",
        "pca = PCA(n_components=2)\n",
        "pca_result = pca.fit_transform(dataframe.values)\n",
        "\n",
        "print ('Explained variation per principal component {}'.format(pca.explained_variance_ratio_))\n",
        "\n",
        "# perform t-SNE calculations\n",
        "time_start = time.time()\n",
        "tsne = TSNE(n_components=2, verbose=1, perplexity=2, n_iter=5000, learning_rate = 10)\n",
        "tsne_results = tsne.fit_transform(dataframe.values)\n",
        "\n",
        "print ('t-SNE done! Time elapsed: {} seconds'.format(time.time()-time_start))\n",
        "\n",
        "dataframe['PC1'] = pca_result[:,0]\n",
        "dataframe['PC2'] = pca_result[:,1] \n",
        "\n",
        "dataframe['tSNE1'] = tsne_results[:,0]\n",
        "dataframe['tSNE2'] = tsne_results[:,1]\n",
        "\n",
        "# add label column to table to identify each sample\n",
        "dataframe['label'] = pd.Series(['before', 'before', 'before', 'after', 'after', 'after'], index = dataframe.index)"
      ],
      "execution_count": 0,
      "outputs": [
        {
          "output_type": "stream",
          "text": [
            "Explained variation per principal component [0.60461493 0.20639627]\n",
            "[t-SNE] Computing 5 nearest neighbors...\n",
            "[t-SNE] Indexed 6 samples in 0.000s...\n",
            "[t-SNE] Computed neighbors for 6 samples in 0.000s...\n",
            "[t-SNE] Computed conditional probabilities for sample 6 / 6\n",
            "[t-SNE] Mean sigma: 7615.190083\n",
            "[t-SNE] KL divergence after 250 iterations with early exaggeration: 51.728119\n",
            "[t-SNE] KL divergence after 1050 iterations: 0.009043\n",
            "t-SNE done! Time elapsed: 0.17603206634521484 seconds\n"
          ],
          "name": "stdout"
        }
      ]
    },
    {
      "metadata": {
        "colab_type": "text",
        "id": "x_A8Zfma9ihJ"
      },
      "cell_type": "markdown",
      "source": [
        "PCA is a deterministic algorithm that looks for most variant variables across samples. It does this by trying to find a best-fit linear line to the data, which is called the first principal component. The first principal component always accounts for the most variation in the data. Subsequent principal components are the best fitting lines perpendicular to previous principal components. The final points are simply the position of the respective point after being projected onto the principal components. This [video](https://www.youtube.com/watch?v=FgakZw6K1QQ) by StatQuest is very helpful in understanding the step-by-steps of PCA and gaining intuition about how it works. From our example, we can see that 81.1% of the variation in transcript expression in our samples are accounted for by the first and second principal components.\n",
        "\n",
        "t-SNE is a non-deterministic algorithm for dimensionality reduction. Each point is initiated in a position in the wanted lower-dimension. At each step, t-SNE will measure the distances of each point with each other point, and compare these with the similarity values from the original data. The ultimate goal is to make the similarity values between points on the lower dimension to match with the values from the original dimension. This [video](https://www.youtube.com/watch?v=NEaUSP4YerM) by StatQuest helps explain t-SNE. Keep in mind that t-SNE is non-deterministic, meaning that each run will behave differently and result in different results.\n",
        "\n",
        "Note: to re-run t-SNE calculations, you have to first reload the data in the previous code cell before running code cell with t-SNE calculations"
      ]
    },
    {
      "metadata": {
        "colab_type": "code",
        "id": "YYzhmx929ihJ",
        "outputId": "6a8206eb-11de-46a0-fc98-6fc67d512c2f",
        "colab": {}
      },
      "cell_type": "code",
      "source": [
        "#graph PCA \n",
        "chart = ggplot(dataframe, aes(x='PC1', y='PC2', color='label') ) \\\n",
        "        + geom_point(size=3,alpha=1) \\\n",
        "        + ggtitle(\"First and second principal component\")\n",
        "chart"
      ],
      "execution_count": 0,
      "outputs": [
        {
          "output_type": "display_data",
          "data": {
            "image/png": "[encoded data removed]",
            "text/plain": [
              "<Figure size 640x480 with 1 Axes>"
            ]
          },
          "metadata": {
            "tags": []
          }
        },
        {
          "output_type": "execute_result",
          "data": {
            "text/plain": [
              "<ggplot: (286316082)>"
            ]
          },
          "metadata": {
            "tags": []
          },
          "execution_count": 24
        }
      ]
    },
    {
      "metadata": {
        "colab_type": "code",
        "id": "tLK4S3Ez9ihL",
        "outputId": "2ec2e880-7886-43a6-8460-c1ec29a76a74",
        "scrolled": false,
        "colab": {}
      },
      "cell_type": "code",
      "source": [
        "# graph t-SNE!\n",
        "chart = ggplot(dataframe, aes(x='tSNE1', y='tSNE2', color='label') ) \\\n",
        "        + geom_point(size=3,alpha=1) \\\n",
        "        + ggtitle(\"tSNE dimensions colored by digit\")\n",
        "chart"
      ],
      "execution_count": 0,
      "outputs": [
        {
          "output_type": "display_data",
          "data": {
            "image/png": "[encoded data removed]",
            "text/plain": [
              "<Figure size 640x480 with 1 Axes>"
            ]
          },
          "metadata": {
            "tags": []
          }
        },
        {
          "output_type": "execute_result",
          "data": {
            "text/plain": [
              "<ggplot: (285572335)>"
            ]
          },
          "metadata": {
            "tags": []
          },
          "execution_count": 28
        }
      ]
    },
    {
      "metadata": {
        "colab_type": "text",
        "id": "w7t7-Hjy9ihM"
      },
      "cell_type": "markdown",
      "source": [
        "In both our PCA and our t-SNE graph, we can see a clear distinction between the before-caffeine cluster and the after-caffeine cluster! This indicates that caffeine is changing transcriptome state as the yeast is reacting to the caffeine in its environment on the transcriptome level.\n",
        "\n",
        "Although PCA and t-SNE is often only helpful to indicate that transcripts are being differentially expressed, it is still a crucial first step in data analysis. After this, scientists will often use [heatmaps](https://en.wikipedia.org/wiki/Heat_map), [multidimensional scaling](https://en.wikipedia.org/wiki/Multidimensional_scaling), [statistical tests] (https://pachterlab.github.io/sleuth_walkthroughs/trapnell/analysis.html), or other techniques to continue exploring the secrets hidden within the data. We invite you to continue learning about different crucial methods used by researches and to continue investigating how yeast uses gene regulation to respond to chemical changes in its environment."
      ]
    },
    {
      "metadata": {
        "id": "4-uAEx9pDRn5",
        "colab_type": "text"
      },
      "cell_type": "markdown",
      "source": [
        "# Answers\n",
        "1. Each letter in the fourth line represents the quality of the corresponding nucleotide, so the number of quality scores must match the total number of nucleotides in the sequence.\n",
        "2. We would expect the isoforms.fpkm_tracking file to contain more entries than the genes.fpkm_tracking file, because while humans only have around 25,000 genes, due to alternative splicing, we have a greater number of exons in our transcriptome than number of genes.\n",
        "3. Since we know that ribosomes, the crucial component of the cell that synthesizes proteins, are made out of RNA and proteins, we would expect that a ribosomal subunit to be expressed the most. If you sort the transcripts by tpm value, we find that the highest expressed transcript is VIMSS6581441 with a TPM value of 21603.60. According to microbesOnline, VIMSS6581441 is \"RPL41B Ribosomal protein L47 of the large (60S) ribosomal subunit, identical to Rpl41Ap and has similarity to rat L41 ribosomal protein; comprised of only 25 amino acids; rpl41a rpl41b double null mutant is viable\"."
      ]
    },
    {
      "metadata": {
        "colab_type": "text",
        "id": "QmcIJKSE9ihM"
      },
      "cell_type": "markdown",
      "source": [
        "# Additional Resources\n",
        "\n",
        "- If you are interested in annotation files (`.gff3`), which identify the locations of genes on the genome and the functions of genes, [UCSC Genome Bioinformatics](http://hgdownload.soe.ucsc.edu/downloads.html) is a great starting place to find annotations for your organism.\n",
        "- more technical information on the paired-end sequencing samples used in the original paper can be found [here](https://www.ncbi.nlm.nih.gov/bioproject/PRJNA385168) and [here](https://trace.ncbi.nlm.nih.gov/Traces/sra/sra.cgi?run=SRR5511057). \n",
        "- another common pipline you can explore is: Trimmomatic/STAR/[HTseq](https://htseq.readthedocs.io/en/release_0.11.1/), this provides the expression of transcripts in *counts*, which is great for learning how to do statistical analysis on sequencing data\n",
        "  "
      ]
    },
    {
      "metadata": {
        "colab_type": "text",
        "id": "Q6LoSROz9ihN"
      },
      "cell_type": "markdown",
      "source": [
        "# FAQ\n",
        "\n",
        "\n",
        "#### Q: Why does fastq-dump create two files?\n",
        "> A: Each file for each read. Reads have the same order in both files, they are paired. This [link](https://en.wikipedia.org/wiki/FASTQ_format) explains more details about the format.\n",
        "\n",
        "#### Q: What is Phred quality score?\n",
        "> A: It is a measure of the quality of a single nucleotide read. A phred quality score is encoded by a single ASCII character. [Here](https://en.wikipedia.org/wiki/Phred_quality_score) is a great explanation. In phred +33, this means that 33 is added to the original score, before converting the number to an ascii character.\n",
        "\n",
        "#### Q: After you convert the raw RNA-seq data into each of the major units (counts, FPKM, TPM), what tools do you usually use to analyze and visualize the data before drawing conclusions.\n",
        "> A: About what do we do after we have raw expression data converted into gene expression matrices... well, that's a very good question, because for me expression matrices are just the beginning. Typically an organism like a bacteria has 2,000 genes, so you have 2,000 dimensions per sample. Yeast, 6,000. Humans 25,000 or more, depending on how we define a gene. How to visualize and draw conclusions from two samples with, let's say, 6,000 dimensions, can be challenging. \n",
        "\n",
        "> One of the possible solutions is grouping together genes that have a similar expression pattern. Say, across n samples, m genes coherently change together. That's what we call a bicluster, gene module or regulon. By doing that we tackle two problems: (1) dimensionality reduction, we may go from 6,000 genes to 200 gene modules, and (2) regulatory mechanism inference, i.e., if a set of m genes behaves similarly across n conditions, it is likely that they are modulated by a common upstream regulator, say a transcription factor or another epigenetic mechanism. Those gene modules can be further interrogated to see if they have a common function, like \"cell cycle\" or \"oxidative stress\". That way, by clustering a heatmap of activities of gene modules by samples, we can get closer to understand a biological response. For example, this is heatmap I generated recently, unpublished results! Each column is a single-cell, each row a gene module (each row name refers to the TF regulating n genes, e.g., first row indicates a gene module of 121 genes regulated by transcription factor JUND), color indicates gene module activity. The sequenced cells were therapy resistant melanoma cells. I would say that different cell populations escaped therapy using different transcriptional programs. You can also check out this [site](http://egrin2.systemsbiology.net/) if you feel interested in building gene regulatory networks out of gene expression matrices.\n",
        "\n",
        "#### How do we find the location of a sequence of a spliced transcript in the genome where the sequence is unspliced?\n",
        "> A: What the sequencing machine actually reads are fragments of 75 to 150 base pairs, which means most of the reads are shorter than any exon, so the mapping is quite simple, exons are clearly part of the genome. A less frequent, but clearly possible case would be a read that includes two exons spliced together. Let's say the first 50 base pairs belong to exon 2, and the rest of the read, 100 base pairs belong to exon 3. Although both exons are present in the genome, the joint read sequence does not. Well, those cases are well taken care of. Mapping tools look for those situations and if the read maps to two exons of the same gene, they take that read as successfully mapped. One of the most popular aligners is called [STAR](https://www.ncbi.nlm.nih.gov/pubmed/23104886), which stands for \"Spliced Transcripts Alignment to a Reference\" So it seems that that unfrequent situation was a particularly important problem they solved. You can also check out [this link](https://htseq.readthedocs.io/en/release_0.9.1/count.html) for how reads are considered as valid or not, or ambiguous by HTSeq (another very popular tool) depending on their alignment with respect to features of interest (typically genes, or exons). \n"
      ]
    }
  ]
}